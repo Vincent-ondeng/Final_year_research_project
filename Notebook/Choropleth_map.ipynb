{
  "nbformat": 4,
  "nbformat_minor": 0,
  "metadata": {
    "colab": {
      "provenance": [],
      "authorship_tag": "ABX9TyPFlyclO5mKtf8kIBcqv0KX",
      "include_colab_link": true
    },
    "kernelspec": {
      "name": "python3",
      "display_name": "Python 3"
    },
    "language_info": {
      "name": "python"
    }
  },
  "cells": [
    {
      "cell_type": "markdown",
      "metadata": {
        "id": "view-in-github",
        "colab_type": "text"
      },
      "source": [
        "<a href=\"https://colab.research.google.com/github/Vincent-ondeng/Final_year_research_project/blob/main/Notebook/Choropleth_map.ipynb\" target=\"_parent\"><img src=\"https://colab.research.google.com/assets/colab-badge.svg\" alt=\"Open In Colab\"/></a>"
      ]
    },
    {
      "cell_type": "code",
      "execution_count": null,
      "metadata": {
        "id": "FOr2Qoz56wZh"
      },
      "outputs": [],
      "source": [
        "!pip install folium\n",
        "!pip install geopandas\n",
        "!pip install pandas\n",
        "!pip install numpy"
      ]
    },
    {
      "cell_type": "code",
      "source": [
        "#Import Libraries\n",
        "import geopandas as gpd\n",
        "import pandas as pd\n",
        "import numpy as np\n",
        "import folium\n",
        "from folium.features import GeoJsonTooltip\n"
      ],
      "metadata": {
        "id": "D3yuD13P7PGF"
      },
      "execution_count": 6,
      "outputs": []
    },
    {
      "cell_type": "code",
      "source": [
        "# Read the GeoJSON file using Geopandas\n",
        "geojson = gpd.read_file(\"/content/sample_data/wards.geojson\")\n",
        "geojson=geojson[['wardcode','geometry']] #only select 'wardcode' (Ward_Code) and 'geometry' columns"
      ],
      "metadata": {
        "id": "CqQ9tVxA8b99"
      },
      "execution_count": 13,
      "outputs": []
    },
    {
      "cell_type": "code",
      "source": [
        "#Read the covid-19 data using pandas\n",
        "malaria_df=pd.read_csv(\"/content/sample_data/wards.csv\")"
      ],
      "metadata": {
        "id": "5UXP4ZPVAGZH"
      },
      "execution_count": 16,
      "outputs": []
    },
    {
      "cell_type": "code",
      "source": [
        "malaria_df.info()"
      ],
      "metadata": {
        "id": "T7zkHuNcAews"
      },
      "execution_count": null,
      "outputs": []
    },
    {
      "cell_type": "code",
      "source": [
        "geojson.head()"
      ],
      "metadata": {
        "id": "g05WK1e7AOSt"
      },
      "execution_count": null,
      "outputs": []
    },
    {
      "cell_type": "code",
      "source": [
        "#Join the geojson file with malaria_df\n",
        "df_final = geojson.merge(malaria_df, left_on=\"wardcode\", right_on=\"wardcode\", how=\"outer\")"
      ],
      "metadata": {
        "id": "GVxZtgv5Bk04"
      },
      "execution_count": 21,
      "outputs": []
    },
    {
      "cell_type": "code",
      "source": [
        "df_final.head()"
      ],
      "metadata": {
        "id": "i6G6lk_RB6RA"
      },
      "execution_count": null,
      "outputs": []
    },
    {
      "cell_type": "code",
      "source": [
        "# Create a map instance\n",
        "m = folium.Map(location=[-0.15386345206107715, 34.86414568574279],\n",
        "               zoom_start=10,\n",
        "               control_scale=True,\n",
        "               prefer_canvas=True)\n",
        "m"
      ],
      "metadata": {
        "id": "larFld7aCIsU"
      },
      "execution_count": null,
      "outputs": []
    },
    {
      "cell_type": "code",
      "source": [
        "folium.Choropleth(\n",
        "    geo_data=geojson,\n",
        "    name=\"Malaria Distribution by ward\",\n",
        "    data=malaria_df,\n",
        "    columns=['wardcode', 'Total_co'],\n",
        "    key_on='feature.properties.wardcode',\n",
        "    nan_fill_color=\"White\", #Use white color if there is no data available for the county\n",
        "    fill_color=\"YlOrRd\",\n",
        "    fill_opacity=0.7,\n",
        "    line_opacity=0.2,\n",
        "    legend_name=\"Total Confirmed Malaria  Cases in Kisumu\",\n",
        "    line_color='black',\n",
        "    highlight=True,\n",
        ").add_to(m)\n",
        "m"
      ],
      "metadata": {
        "id": "ofz81sHNCo68"
      },
      "execution_count": null,
      "outputs": []
    }
  ]
}