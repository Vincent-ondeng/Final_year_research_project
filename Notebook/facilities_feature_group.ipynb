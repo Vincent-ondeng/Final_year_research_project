{
  "nbformat": 4,
  "nbformat_minor": 0,
  "metadata": {
    "colab": {
      "provenance": [],
      "authorship_tag": "ABX9TyOWjy24aLIBEF79/rdLTs/6",
      "include_colab_link": true
    },
    "kernelspec": {
      "name": "python3",
      "display_name": "Python 3"
    },
    "language_info": {
      "name": "python"
    }
  },
  "cells": [
    {
      "cell_type": "markdown",
      "metadata": {
        "id": "view-in-github",
        "colab_type": "text"
      },
      "source": [
        "<a href=\"https://colab.research.google.com/github/Vincent-ondeng/Final_year_research_project/blob/main/Notebook/facilities_feature_group.ipynb\" target=\"_parent\"><img src=\"https://colab.research.google.com/assets/colab-badge.svg\" alt=\"Open In Colab\"/></a>"
      ]
    },
    {
      "cell_type": "code",
      "execution_count": null,
      "metadata": {
        "id": "REsnsbw9T3Wv"
      },
      "outputs": [],
      "source": [
        "!pip install folium\n",
        "!pip install pandas"
      ]
    },
    {
      "cell_type": "code",
      "source": [
        "import folium\n",
        "import pandas as pd\n",
        "from folium.plugins import MarkerCluster"
      ],
      "metadata": {
        "id": "F9icLWkmW_4n"
      },
      "execution_count": 45,
      "outputs": []
    },
    {
      "cell_type": "code",
      "source": [
        "m = folium.Map(location=[-0.15386345206107715, 34.86414568574279], tiles='Cartodb dark_matter', zoom_start=10)\n",
        "m"
      ],
      "metadata": {
        "id": "Bbh_-ouaXbKu"
      },
      "execution_count": null,
      "outputs": []
    },
    {
      "cell_type": "code",
      "source": [
        "df = pd.read_csv('/content/facilities_coordinates.csv')\n",
        "df.head()"
      ],
      "metadata": {
        "id": "u9-P4xRoZOU-"
      },
      "execution_count": null,
      "outputs": []
    },
    {
      "cell_type": "code",
      "source": [
        "markerCluster = MarkerCluster().add_to(m)"
      ],
      "metadata": {
        "id": "iRsbNoWpK-wT"
      },
      "execution_count": 48,
      "outputs": []
    },
    {
      "cell_type": "code",
      "source": [
        "for i,row in df.iterrows():\n",
        "  lat = df.at[i, 'Latitude']\n",
        "  lng = df.at[i, 'Longitude']\n",
        "  hos = df.at[i, 'Facility']\n",
        "  total = df.at[i, 'Confirmed Malaria cases in all age groups']\n",
        "\n",
        "  popup = df.at[i, 'Facility'] +'<br>' +str(df.at[i, 'Confirmed Malaria cases in all age groups'])\n",
        "\n",
        "  folium.CircleMarker(location=[lat,lng], popup=popup, fill=True,).add_to(markerCluster)\n",
        "m"
      ],
      "metadata": {
        "id": "q7ZUfUoVZtRD"
      },
      "execution_count": null,
      "outputs": []
    }
  ]
}