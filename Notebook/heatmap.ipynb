{
  "nbformat": 4,
  "nbformat_minor": 0,
  "metadata": {
    "colab": {
      "provenance": [],
      "authorship_tag": "ABX9TyPJhsVLseby62sqyWKhzbX0",
      "include_colab_link": true
    },
    "kernelspec": {
      "name": "python3",
      "display_name": "Python 3"
    },
    "language_info": {
      "name": "python"
    }
  },
  "cells": [
    {
      "cell_type": "markdown",
      "metadata": {
        "id": "view-in-github",
        "colab_type": "text"
      },
      "source": [
        "<a href=\"https://colab.research.google.com/github/Vincent-ondeng/Final_year_research_project/blob/main/Notebook/heatmap.ipynb\" target=\"_parent\"><img src=\"https://colab.research.google.com/assets/colab-badge.svg\" alt=\"Open In Colab\"/></a>"
      ]
    },
    {
      "cell_type": "code",
      "source": [
        "import warnings\n",
        "warnings.filterwarnings('ignore')\n",
        "!pip install pandas\n",
        "!pip install folium"
      ],
      "metadata": {
        "id": "qB7yK9KPEqWp"
      },
      "execution_count": null,
      "outputs": []
    },
    {
      "cell_type": "code",
      "source": [
        "import pandas as pd"
      ],
      "metadata": {
        "id": "6u4kOc7ZE-TZ"
      },
      "execution_count": 7,
      "outputs": []
    },
    {
      "cell_type": "code",
      "source": [
        "df = pd.read_csv('/content/heatmap.csv')\n",
        "df.head()"
      ],
      "metadata": {
        "id": "NSgu2CAzFCE4"
      },
      "execution_count": null,
      "outputs": []
    },
    {
      "cell_type": "code",
      "source": [
        "import math\n",
        "\n",
        "coord_list = [(lat, lon) for lat, lon in zip(df.Y, df.X)]"
      ],
      "metadata": {
        "id": "vgbXyu6LFd5U"
      },
      "execution_count": 11,
      "outputs": []
    },
    {
      "cell_type": "code",
      "source": [
        "import folium\n",
        "from folium import plugins\n",
        "\n",
        "m = folium.Map(location=[-0.15386345206107715, 34.86414568574279], tiles='OpenStreetMap', zoom_start=10)\n",
        "plugins.HeatMap(coord_list, min_opacity=0.2, blur=10, radius=20, overlay=False, ).add_to(m)\n",
        "m"
      ],
      "metadata": {
        "id": "1dcxi7S3Ga30"
      },
      "execution_count": null,
      "outputs": []
    }
  ]
}