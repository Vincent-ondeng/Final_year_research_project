{
  "nbformat": 4,
  "nbformat_minor": 0,
  "metadata": {
    "colab": {
      "provenance": [],
      "authorship_tag": "ABX9TyOed6LzvaozoF03BrC+4EnJ",
      "include_colab_link": true
    },
    "kernelspec": {
      "name": "python3",
      "display_name": "Python 3"
    },
    "language_info": {
      "name": "python"
    }
  },
  "cells": [
    {
      "cell_type": "markdown",
      "metadata": {
        "id": "view-in-github",
        "colab_type": "text"
      },
      "source": [
        "<a href=\"https://colab.research.google.com/github/Vincent-ondeng/Final_year_research_project/blob/main/Notebook/heatmap.ipynb\" target=\"_parent\"><img src=\"https://colab.research.google.com/assets/colab-badge.svg\" alt=\"Open In Colab\"/></a>"
      ]
    },
    {
      "cell_type": "code",
      "execution_count": null,
      "metadata": {
        "id": "kz5FYqrxcIjt"
      },
      "outputs": [],
      "source": [
        "!pip install pandas\n",
        "!pip install folium"
      ]
    },
    {
      "cell_type": "code",
      "source": [
        "import folium\n",
        "import pandas as pd\n",
        "from folium.plugins import HeatMap"
      ],
      "metadata": {
        "id": "-urFdUuhdbZu"
      },
      "execution_count": 5,
      "outputs": []
    },
    {
      "cell_type": "code",
      "source": [
        "m = folium.Map(location=[-0.15386345206107715, 34.86414568574279], tiles='OpenStreetMap', zoom_start=10)"
      ],
      "metadata": {
        "id": "GtbIbvIzdi2a"
      },
      "execution_count": 6,
      "outputs": []
    },
    {
      "cell_type": "code",
      "source": [
        "df = pd.read_csv('/content/hotspot.csv')\n",
        "df.head()"
      ],
      "metadata": {
        "id": "YRxWStnYdq5z"
      },
      "execution_count": null,
      "outputs": []
    },
    {
      "cell_type": "code",
      "source": [
        "for i, row in df.iterrows():\n",
        "    lat = df.at[i, 'Y']\n",
        "    lng = df.at[i, 'X']\n",
        "    v_stat = df.at[i, 'V-statistic']\n",
        "\n",
        "data = [lat, lng, v_stat]"
      ],
      "metadata": {
        "id": "bHMZ01VmeVwK"
      },
      "execution_count": 12,
      "outputs": []
    }
  ]
}