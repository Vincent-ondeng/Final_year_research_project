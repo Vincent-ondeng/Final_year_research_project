{
  "nbformat": 4,
  "nbformat_minor": 0,
  "metadata": {
    "colab": {
      "provenance": [],
      "authorship_tag": "ABX9TyPJhsVLseby62sqyWKhzbX0",
      "include_colab_link": true
    },
    "kernelspec": {
      "name": "python3",
      "display_name": "Python 3"
    },
    "language_info": {
      "name": "python"
    }
  },
  "cells": [
    {
      "cell_type": "markdown",
      "metadata": {
        "id": "view-in-github",
        "colab_type": "text"
      },
      "source": [
        "<a href=\"https://colab.research.google.com/github/Vincent-ondeng/Final_year_research_project/blob/main/Notebook/heatmap.ipynb\" target=\"_parent\"><img src=\"https://colab.research.google.com/assets/colab-badge.svg\" alt=\"Open In Colab\"/></a>"
      ]
    },
    {
      "cell_type": "code",
      "source": [
        "import warnings\n",
        "warnings.filterwarnings('ignore')\n",
        "!pip install pandas\n",
        "!pip install folium"
      ],
      "metadata": {
        "id": "qB7yK9KPEqWp"
      },
      "execution_count": null,
      "outputs": []
    },
    {
      "cell_type": "code",
      "source": [
        "import pandas as pd"
      ],
      "metadata": {
        "id": "6u4kOc7ZE-TZ"
      },
      "execution_count": 7,
      "outputs": []
    },
    {
      "cell_type": "code",
      "source": [
        "df = pd.read_csv('/content/heatmap.csv')\n",
        "df.head()"
      ],
      "metadata": {
        "id": "NSgu2CAzFCE4",
        "outputId": "2ae7337e-bbe7-4f07-f338-6c4b2fda7c60",
        "colab": {
          "base_uri": "https://localhost:8080/",
          "height": 206
        }
      },
      "execution_count": 8,
      "outputs": [
        {
          "output_type": "execute_result",
          "data": {
            "text/plain": [
              "         Y         X  V-statistic\n",
              "0 -0.11481  34.75679         0.43\n",
              "1 -0.15652  35.19840        -0.17\n",
              "2 -0.36541  34.84587        -0.45\n",
              "3 -0.37797  34.85269        -0.45\n",
              "4 -0.07948  35.13723         0.74"
            ],
            "text/html": [
              "\n",
              "  <div id=\"df-bc1d2ed5-0e14-42f4-9bb5-7294fc341b41\">\n",
              "    <div class=\"colab-df-container\">\n",
              "      <div>\n",
              "<style scoped>\n",
              "    .dataframe tbody tr th:only-of-type {\n",
              "        vertical-align: middle;\n",
              "    }\n",
              "\n",
              "    .dataframe tbody tr th {\n",
              "        vertical-align: top;\n",
              "    }\n",
              "\n",
              "    .dataframe thead th {\n",
              "        text-align: right;\n",
              "    }\n",
              "</style>\n",
              "<table border=\"1\" class=\"dataframe\">\n",
              "  <thead>\n",
              "    <tr style=\"text-align: right;\">\n",
              "      <th></th>\n",
              "      <th>Y</th>\n",
              "      <th>X</th>\n",
              "      <th>V-statistic</th>\n",
              "    </tr>\n",
              "  </thead>\n",
              "  <tbody>\n",
              "    <tr>\n",
              "      <th>0</th>\n",
              "      <td>-0.11481</td>\n",
              "      <td>34.75679</td>\n",
              "      <td>0.43</td>\n",
              "    </tr>\n",
              "    <tr>\n",
              "      <th>1</th>\n",
              "      <td>-0.15652</td>\n",
              "      <td>35.19840</td>\n",
              "      <td>-0.17</td>\n",
              "    </tr>\n",
              "    <tr>\n",
              "      <th>2</th>\n",
              "      <td>-0.36541</td>\n",
              "      <td>34.84587</td>\n",
              "      <td>-0.45</td>\n",
              "    </tr>\n",
              "    <tr>\n",
              "      <th>3</th>\n",
              "      <td>-0.37797</td>\n",
              "      <td>34.85269</td>\n",
              "      <td>-0.45</td>\n",
              "    </tr>\n",
              "    <tr>\n",
              "      <th>4</th>\n",
              "      <td>-0.07948</td>\n",
              "      <td>35.13723</td>\n",
              "      <td>0.74</td>\n",
              "    </tr>\n",
              "  </tbody>\n",
              "</table>\n",
              "</div>\n",
              "      <button class=\"colab-df-convert\" onclick=\"convertToInteractive('df-bc1d2ed5-0e14-42f4-9bb5-7294fc341b41')\"\n",
              "              title=\"Convert this dataframe to an interactive table.\"\n",
              "              style=\"display:none;\">\n",
              "        \n",
              "  <svg xmlns=\"http://www.w3.org/2000/svg\" height=\"24px\"viewBox=\"0 0 24 24\"\n",
              "       width=\"24px\">\n",
              "    <path d=\"M0 0h24v24H0V0z\" fill=\"none\"/>\n",
              "    <path d=\"M18.56 5.44l.94 2.06.94-2.06 2.06-.94-2.06-.94-.94-2.06-.94 2.06-2.06.94zm-11 1L8.5 8.5l.94-2.06 2.06-.94-2.06-.94L8.5 2.5l-.94 2.06-2.06.94zm10 10l.94 2.06.94-2.06 2.06-.94-2.06-.94-.94-2.06-.94 2.06-2.06.94z\"/><path d=\"M17.41 7.96l-1.37-1.37c-.4-.4-.92-.59-1.43-.59-.52 0-1.04.2-1.43.59L10.3 9.45l-7.72 7.72c-.78.78-.78 2.05 0 2.83L4 21.41c.39.39.9.59 1.41.59.51 0 1.02-.2 1.41-.59l7.78-7.78 2.81-2.81c.8-.78.8-2.07 0-2.86zM5.41 20L4 18.59l7.72-7.72 1.47 1.35L5.41 20z\"/>\n",
              "  </svg>\n",
              "      </button>\n",
              "      \n",
              "  <style>\n",
              "    .colab-df-container {\n",
              "      display:flex;\n",
              "      flex-wrap:wrap;\n",
              "      gap: 12px;\n",
              "    }\n",
              "\n",
              "    .colab-df-convert {\n",
              "      background-color: #E8F0FE;\n",
              "      border: none;\n",
              "      border-radius: 50%;\n",
              "      cursor: pointer;\n",
              "      display: none;\n",
              "      fill: #1967D2;\n",
              "      height: 32px;\n",
              "      padding: 0 0 0 0;\n",
              "      width: 32px;\n",
              "    }\n",
              "\n",
              "    .colab-df-convert:hover {\n",
              "      background-color: #E2EBFA;\n",
              "      box-shadow: 0px 1px 2px rgba(60, 64, 67, 0.3), 0px 1px 3px 1px rgba(60, 64, 67, 0.15);\n",
              "      fill: #174EA6;\n",
              "    }\n",
              "\n",
              "    [theme=dark] .colab-df-convert {\n",
              "      background-color: #3B4455;\n",
              "      fill: #D2E3FC;\n",
              "    }\n",
              "\n",
              "    [theme=dark] .colab-df-convert:hover {\n",
              "      background-color: #434B5C;\n",
              "      box-shadow: 0px 1px 3px 1px rgba(0, 0, 0, 0.15);\n",
              "      filter: drop-shadow(0px 1px 2px rgba(0, 0, 0, 0.3));\n",
              "      fill: #FFFFFF;\n",
              "    }\n",
              "  </style>\n",
              "\n",
              "      <script>\n",
              "        const buttonEl =\n",
              "          document.querySelector('#df-bc1d2ed5-0e14-42f4-9bb5-7294fc341b41 button.colab-df-convert');\n",
              "        buttonEl.style.display =\n",
              "          google.colab.kernel.accessAllowed ? 'block' : 'none';\n",
              "\n",
              "        async function convertToInteractive(key) {\n",
              "          const element = document.querySelector('#df-bc1d2ed5-0e14-42f4-9bb5-7294fc341b41');\n",
              "          const dataTable =\n",
              "            await google.colab.kernel.invokeFunction('convertToInteractive',\n",
              "                                                     [key], {});\n",
              "          if (!dataTable) return;\n",
              "\n",
              "          const docLinkHtml = 'Like what you see? Visit the ' +\n",
              "            '<a target=\"_blank\" href=https://colab.research.google.com/notebooks/data_table.ipynb>data table notebook</a>'\n",
              "            + ' to learn more about interactive tables.';\n",
              "          element.innerHTML = '';\n",
              "          dataTable['output_type'] = 'display_data';\n",
              "          await google.colab.output.renderOutput(dataTable, element);\n",
              "          const docLink = document.createElement('div');\n",
              "          docLink.innerHTML = docLinkHtml;\n",
              "          element.appendChild(docLink);\n",
              "        }\n",
              "      </script>\n",
              "    </div>\n",
              "  </div>\n",
              "  "
            ]
          },
          "metadata": {},
          "execution_count": 8
        }
      ]
    },
    {
      "cell_type": "code",
      "source": [
        "import math\n",
        "\n",
        "coord_list = [(lat, lon) for lat, lon in zip(df.Y, df.X)]"
      ],
      "metadata": {
        "id": "vgbXyu6LFd5U"
      },
      "execution_count": 11,
      "outputs": []
    },
    {
      "cell_type": "code",
      "source": [
        "import folium\n",
        "from folium import plugins\n",
        "\n",
        "m = folium.Map(location=[-0.15386345206107715, 34.86414568574279], tiles='OpenStreetMap', zoom_start=10)\n",
        "plugins.HeatMap(coord_list, min_opacity=0.2, blur=10, radius=20, overlay=False, ).add_to(m)\n",
        "m"
      ],
      "metadata": {
        "id": "1dcxi7S3Ga30",
        "outputId": "48975d97-869a-4f71-faae-3fd64af510f9",
        "colab": {
          "base_uri": "https://localhost:8080/",
          "height": 583
        }
      },
      "execution_count": 21,
      "outputs": [
        {
          "output_type": "execute_result",
          "data": {
            "text/plain": [
              "<folium.folium.Map at 0x7f5844558bb0>"
            ],
            "text/html": [
              "<div style=\"width:100%;\"><div style=\"position:relative;width:100%;height:0;padding-bottom:60%;\"><span style=\"color:#565656\">Make this Notebook Trusted to load map: File -> Trust Notebook</span><iframe srcdoc=\"&lt;!DOCTYPE html&gt;\n",
              "&lt;html&gt;\n",
              "&lt;head&gt;\n",
              "    \n",
              "    &lt;meta http-equiv=&quot;content-type&quot; content=&quot;text/html; charset=UTF-8&quot; /&gt;\n",
              "    \n",
              "        &lt;script&gt;\n",
              "            L_NO_TOUCH = false;\n",
              "            L_DISABLE_3D = false;\n",
              "        &lt;/script&gt;\n",
              "    \n",
              "    &lt;style&gt;html, body {width: 100%;height: 100%;margin: 0;padding: 0;}&lt;/style&gt;\n",
              "    &lt;style&gt;#map {position:absolute;top:0;bottom:0;right:0;left:0;}&lt;/style&gt;\n",
              "    &lt;script src=&quot;https://cdn.jsdelivr.net/npm/leaflet@1.6.0/dist/leaflet.js&quot;&gt;&lt;/script&gt;\n",
              "    &lt;script src=&quot;https://code.jquery.com/jquery-1.12.4.min.js&quot;&gt;&lt;/script&gt;\n",
              "    &lt;script src=&quot;https://maxcdn.bootstrapcdn.com/bootstrap/3.2.0/js/bootstrap.min.js&quot;&gt;&lt;/script&gt;\n",
              "    &lt;script src=&quot;https://cdnjs.cloudflare.com/ajax/libs/Leaflet.awesome-markers/2.0.2/leaflet.awesome-markers.js&quot;&gt;&lt;/script&gt;\n",
              "    &lt;link rel=&quot;stylesheet&quot; href=&quot;https://cdn.jsdelivr.net/npm/leaflet@1.6.0/dist/leaflet.css&quot;/&gt;\n",
              "    &lt;link rel=&quot;stylesheet&quot; href=&quot;https://maxcdn.bootstrapcdn.com/bootstrap/3.2.0/css/bootstrap.min.css&quot;/&gt;\n",
              "    &lt;link rel=&quot;stylesheet&quot; href=&quot;https://maxcdn.bootstrapcdn.com/bootstrap/3.2.0/css/bootstrap-theme.min.css&quot;/&gt;\n",
              "    &lt;link rel=&quot;stylesheet&quot; href=&quot;https://maxcdn.bootstrapcdn.com/font-awesome/4.6.3/css/font-awesome.min.css&quot;/&gt;\n",
              "    &lt;link rel=&quot;stylesheet&quot; href=&quot;https://cdnjs.cloudflare.com/ajax/libs/Leaflet.awesome-markers/2.0.2/leaflet.awesome-markers.css&quot;/&gt;\n",
              "    &lt;link rel=&quot;stylesheet&quot; href=&quot;https://cdn.jsdelivr.net/gh/python-visualization/folium/folium/templates/leaflet.awesome.rotate.min.css&quot;/&gt;\n",
              "    \n",
              "            &lt;meta name=&quot;viewport&quot; content=&quot;width=device-width,\n",
              "                initial-scale=1.0, maximum-scale=1.0, user-scalable=no&quot; /&gt;\n",
              "            &lt;style&gt;\n",
              "                #map_00d03faf46e9da9ff0c5845f671aa838 {\n",
              "                    position: relative;\n",
              "                    width: 100.0%;\n",
              "                    height: 100.0%;\n",
              "                    left: 0.0%;\n",
              "                    top: 0.0%;\n",
              "                }\n",
              "            &lt;/style&gt;\n",
              "        \n",
              "    &lt;script src=&quot;https://cdn.jsdelivr.net/gh/python-visualization/folium@master/folium/templates/leaflet_heat.min.js&quot;&gt;&lt;/script&gt;\n",
              "&lt;/head&gt;\n",
              "&lt;body&gt;\n",
              "    \n",
              "    \n",
              "            &lt;div class=&quot;folium-map&quot; id=&quot;map_00d03faf46e9da9ff0c5845f671aa838&quot; &gt;&lt;/div&gt;\n",
              "        \n",
              "&lt;/body&gt;\n",
              "&lt;script&gt;\n",
              "    \n",
              "    \n",
              "            var map_00d03faf46e9da9ff0c5845f671aa838 = L.map(\n",
              "                &quot;map_00d03faf46e9da9ff0c5845f671aa838&quot;,\n",
              "                {\n",
              "                    center: [-0.15386345206107715, 34.86414568574279],\n",
              "                    crs: L.CRS.EPSG3857,\n",
              "                    zoom: 10,\n",
              "                    zoomControl: true,\n",
              "                    preferCanvas: false,\n",
              "                }\n",
              "            );\n",
              "\n",
              "            \n",
              "\n",
              "        \n",
              "    \n",
              "            var tile_layer_f783ee4f8eccb677b4b3ee282ca4f866 = L.tileLayer(\n",
              "                &quot;https://{s}.tile.openstreetmap.org/{z}/{x}/{y}.png&quot;,\n",
              "                {&quot;attribution&quot;: &quot;Data by \\u0026copy; \\u003ca href=\\&quot;http://openstreetmap.org\\&quot;\\u003eOpenStreetMap\\u003c/a\\u003e, under \\u003ca href=\\&quot;http://www.openstreetmap.org/copyright\\&quot;\\u003eODbL\\u003c/a\\u003e.&quot;, &quot;detectRetina&quot;: false, &quot;maxNativeZoom&quot;: 18, &quot;maxZoom&quot;: 18, &quot;minZoom&quot;: 0, &quot;noWrap&quot;: false, &quot;opacity&quot;: 1, &quot;subdomains&quot;: &quot;abc&quot;, &quot;tms&quot;: false}\n",
              "            ).addTo(map_00d03faf46e9da9ff0c5845f671aa838);\n",
              "        \n",
              "    \n",
              "            var heat_map_19583f14d7db9a27be84d560659ca209 = L.heatLayer(\n",
              "                [[-0.11481, 34.75679], [-0.15652, 35.1984], [-0.36541, 34.84587], [-0.37797, 34.85269], [-0.07948, 35.13723], [-0.18527, 34.89335], [-0.11308, 34.75477], [-0.31196, 34.79119], [-0.38549, 34.93311], [-0.07347, 34.73408], [-0.08375, 34.76581], [-0.09801, 34.576], [-0.15267, 35.18645], [-0.31286, 34.93677], [-0.10042, 35.0845], [-0.14528, 35.04405], [-0.09925, 34.9617], [-0.38158, 34.9315], [-0.04524, 34.53969], [-0.3032, 34.78957], [-0.05288, 34.57639], [-0.16994, 34.84852], [-0.09538, 34.76012], [-0.0965, 34.75867], [-0.08956, 34.78226], [-0.17323, 34.92357], [-0.1728, 34.93193], [-0.0817, 34.72852], [-0.1154, 34.45305], [-0.16457, 35.07081], [-0.10498, 34.75251], [-0.0913, 34.76798], [-0.11431, 34.45309], [-0.11537, 34.45311], [-0.16129, 35.07317], [-0.16434, 35.07229], [-0.19299, 34.95193], [-0.06877, 34.5128], [-0.06651, 34.72858], [-0.07636, 34.72909], [-0.31447, 35.00576], [-0.07848, 34.77684], [-0.11308, 34.75477], [-0.10434, 34.75327], [-0.11133, 34.80026], [-0.36034, 34.93521], [-0.32653, 34.90098], [-0.1593, 35.07296], [-0.1742, 34.9204], [-0.07952, 34.78419], [-0.0699, 34.74093], [-0.10702, 35.10847], [-0.28977, 35.02834], [-0.09871, 34.84499], [-0.07865, 34.77684], [-0.03802, 34.69205], [-0.18247, 34.50407], [-0.03264, 34.73959], [-0.07658, 34.77747], [-0.03813, 34.69672], [-0.07729, 34.79525], [-0.05524, 34.80179], [-0.14093, 34.73677], [-0.14004, 34.73942], [-0.11305, 34.75476], [-0.31147, 34.79067], [-0.03588, 34.75516], [-0.11627, 34.78698], [-0.02735, 34.79058], [-0.07183, 34.71011], [-0.12738, 34.75057], [-0.09234, 34.62257], [-0.09861, 34.59887], [0.00985, 34.81552], [-0.11659, 34.78701], [-0.21983, 34.82832], [-0.09027, 34.96925], [-0.1612, 35.07343], [-0.06887, 34.6967], [-0.11701, 34.76105], [-0.11461, 34.75679], [-0.03682, 35.17993], [-0.09472, 34.76419], [-0.08884, 34.77177], [-0.0941, 34.75409], [-0.09766, 34.76571], [-0.23999, 34.83467], [-0.16109, 34.91798], [-0.17278, 34.91305], [-0.33699, 34.98011], [-0.15637, 35.1984], [-0.23767, 34.87913], [-0.06786, 34.75409], [-0.16024, 35.19988], [-0.33163, 34.8542], [-0.08872, 34.77174], [-0.25217, 35.0288], [-0.0574, 34.62478], [-0.37585, 34.944], [-0.07327, 35.04946], [-0.06173, 34.81563], [-0.24857, 35.02018], [-0.0853, 34.77197], [-0.10134, 34.75555], [-0.09481, 34.76553], [-0.113, 34.75476], [-0.03585, 34.75516], [-0.14552, 34.87354], [-0.06595, 34.71191], [-0.3225, 34.79935], [-0.19384, 34.84218], [-0.09418, 34.46942], [-0.1028, 34.51829], [-0.19034, 34.85049], [-0.18047, 35.26687], [-0.18586, 35.27388], [-0.04688, 34.49207], [-0.04195, 34.7796], [-0.11363, 34.76877], [-0.10202, 34.78292], [-0.08941, 34.56493], [-0.14046, 34.6207], [-0.16906, 34.88512], [-0.29106, 34.96303], [-0.00101, 34.74005], [-0.14697, 34.53624], [-0.09933, 34.76586], [-0.07629, 34.61828], [-0.21849, 34.93403], [-0.08876, 34.77179], [-0.06824, 34.74194], [-0.12639, 35.16952], [-0.10687, 34.9286], [-0.09252, 34.78029], [-0.11528, 34.4531], [-0.09153, 34.7678], [-0.03907, 34.6286], [-0.15307, 34.85372], [-0.10158, 34.75441], [0.00114, 34.61169], [-0.00623, 34.5974], [-0.00621, 34.59734], [-0.08183, 35.13511], [-0.15637, 35.19842], [-0.0149, 34.63531], [-0.09775, 34.76555], [-0.10105, 34.75134], [-0.10666, 34.53035], [-0.12901, 35.12544], [-0.08008, 34.78166], [-0.12079, 35.0637], [-0.12158, 34.75306], [-0.05131, 35.09034], [-0.12184, 34.55603], [-0.05862, 34.78402], [-0.15689, 35.19851], [-0.15133, 35.2056], [-0.06537, 34.46676], [-0.04796, 34.90282], [-0.04643, 34.65081], [-0.08312, 34.77634], [-0.1076, 34.75547], [-0.33548, 34.92667], [-0.38057, 34.9779], [-0.38106, 34.9796], [-0.03443, 34.7128], [-0.38706, 34.92992], [-0.17134, 34.98916], [-0.19787, 35.01289], [-0.12282, 34.75217], [-0.12685, 34.82439], [-0.37023, 34.90469], [-0.16765, 34.79288], [-0.20669, 34.84802], [-0.03081, 35.11946], [-0.07954, 34.77126], [-0.11457, 34.60937], [-0.0798, 34.88249], [-0.38904, 34.93791], [-0.09945, 34.8734], [-0.07923, 34.76961], [-0.08054, 34.76302], [-0.03895, 35.18184], [-0.11126, 34.95051], [-0.11509, 34.63026], [-0.14081, 34.86205], [-0.26725, 35.04455], [-0.0779, 34.79335], [-0.03108, 34.76302], [-0.08587, 34.64807], [-0.06985, 34.53951], [-0.32152, 35.06482], [-0.11584, 34.5045], [-0.16786, 35.0624], [-0.13649, 34.48913], [-0.13651, 34.48915], [-0.14363, 34.78791], [-0.13744, 34.44082], [-0.03537, 34.52008], [-0.11885, 34.63478], [-0.11898, 34.75781], [-0.0926, 34.60168], [-0.34033, 34.90736], [-0.10407, 34.75249], [-0.15299, 34.82976], [-0.15859, 35.20424], [-0.31406, 35.00463], [-0.23804, 34.95686], [-0.10368, 34.74887], [-0.05077, 34.754], [-0.12184, 34.55604], [-0.06336, 34.5273], [-0.30122, 34.79398], [-0.34288, 34.80851], [-0.10041, 34.75042], [-0.16431, 35.06689], [-0.10186, 34.45318], [-0.24368, 34.95968], [-0.09305, 34.81079], [0.00753, 34.60744], [-0.34624, 34.9708], [-0.05218, 34.79475], [0.00176, 34.60978], [-0.38975, 35.01397], [-0.08479, 35.14125], [-0.34798, 34.87367], [-0.05844, 34.78481], [-0.09128, 34.76722], [-0.07112, 34.76627], [-0.12057, 34.75476], [-0.10609, 34.76178], [-0.09031, 34.7595], [-0.07436, 34.69894], [-0.04478, 34.77082], [-0.09172, 34.7662], [-0.09156, 34.76782], [-0.16012, 35.19511], [-0.14279, 34.80589], [-0.14279, 34.79098], [-0.08391, 34.79016], [-0.09675, 34.76451], [-0.09038, 34.76475], [-0.03431, 34.59159], [-0.09993, 35.2025], [-0.16155, 35.07356], [-0.2006, 35.01362], [-0.10866, 34.75738], [-0.10351, 34.71963], [-0.16104, 35.07371], [-0.0799, 35.17893]],\n",
              "                {&quot;blur&quot;: 10, &quot;maxZoom&quot;: 18, &quot;minOpacity&quot;: 0.2, &quot;radius&quot;: 20}\n",
              "            ).addTo(map_00d03faf46e9da9ff0c5845f671aa838);\n",
              "        \n",
              "&lt;/script&gt;\n",
              "&lt;/html&gt;\" style=\"position:absolute;width:100%;height:100%;left:0;top:0;border:none !important;\" allowfullscreen webkitallowfullscreen mozallowfullscreen></iframe></div></div>"
            ]
          },
          "metadata": {},
          "execution_count": 21
        }
      ]
    }
  ]
}