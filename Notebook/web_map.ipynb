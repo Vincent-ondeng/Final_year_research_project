{
  "nbformat": 4,
  "nbformat_minor": 0,
  "metadata": {
    "colab": {
      "provenance": [],
      "authorship_tag": "ABX9TyMuvni0QRRH4DNh5q648UUX",
      "include_colab_link": true
    },
    "kernelspec": {
      "name": "python3",
      "display_name": "Python 3"
    },
    "language_info": {
      "name": "python"
    }
  },
  "cells": [
    {
      "cell_type": "markdown",
      "metadata": {
        "id": "view-in-github",
        "colab_type": "text"
      },
      "source": [
        "<a href=\"https://colab.research.google.com/github/Vincent-ondeng/Final_year_research_project/blob/main/Notebook/web_map.ipynb\" target=\"_parent\"><img src=\"https://colab.research.google.com/assets/colab-badge.svg\" alt=\"Open In Colab\"/></a>"
      ]
    },
    {
      "cell_type": "code",
      "execution_count": null,
      "metadata": {
        "id": "FOr2Qoz56wZh"
      },
      "outputs": [],
      "source": [
        "!pip install folium\n",
        "!pip install geopandas\n",
        "!pip install pandas\n",
        "!pip install numpy"
      ]
    },
    {
      "cell_type": "code",
      "source": [
        "#Import Libraries\n",
        "import geopandas as gpd\n",
        "import pandas as pd\n",
        "import numpy as np\n",
        "import folium\n",
        "from folium.features import GeoJsonTooltip\n"
      ],
      "metadata": {
        "id": "D3yuD13P7PGF"
      },
      "execution_count": null,
      "outputs": []
    },
    {
      "cell_type": "code",
      "source": [
        "# Read the GeoJSON file using Geopandas\n",
        "geojson = gpd.read_file(\"/content/wards.geojson\")\n",
        "geojson=geojson[['wardcode','geometry']] #only select 'wardcode' (Ward_Code) and 'geometry' columns\n",
        "# Read the Facilities GeoJSON file using GeoPandas\n",
        "geojson_f = gpd.read_file(\"/content/facilities.geojson\")\n",
        "geojson_f=geojson_f[['FID_', 'geometry']] #only select the FID_ and the geometry column"
      ],
      "metadata": {
        "id": "CqQ9tVxA8b99"
      },
      "execution_count": null,
      "outputs": []
    },
    {
      "cell_type": "code",
      "source": [
        "#Read the covid-19 data using pandas\n",
        "malaria_df=pd.read_csv(\"/content/wards.csv\")\n",
        "facilities_df=pd.read_csv(\"/content/facilities.csv\")"
      ],
      "metadata": {
        "id": "5UXP4ZPVAGZH"
      },
      "execution_count": null,
      "outputs": []
    },
    {
      "cell_type": "code",
      "source": [
        "malaria_df.info()"
      ],
      "metadata": {
        "id": "T7zkHuNcAews"
      },
      "execution_count": null,
      "outputs": []
    },
    {
      "cell_type": "code",
      "source": [
        "facilities_df.info()"
      ],
      "metadata": {
        "id": "F4fN4I2CLNjm"
      },
      "execution_count": null,
      "outputs": []
    },
    {
      "cell_type": "code",
      "source": [
        "facilities_df.head()"
      ],
      "metadata": {
        "id": "nTGiIAEaLd1e"
      },
      "execution_count": null,
      "outputs": []
    },
    {
      "cell_type": "code",
      "source": [
        "geojson.head()"
      ],
      "metadata": {
        "id": "g05WK1e7AOSt"
      },
      "execution_count": null,
      "outputs": []
    },
    {
      "cell_type": "code",
      "source": [
        "geojson_f.head()"
      ],
      "metadata": {
        "id": "Q0siyhPpKXGf"
      },
      "execution_count": null,
      "outputs": []
    },
    {
      "cell_type": "code",
      "source": [
        "#Join the geojson file with malaria_df\n",
        "df_final = geojson.merge(malaria_df, left_on=\"wardcode\", right_on=\"wardcode\", how=\"outer\")"
      ],
      "metadata": {
        "id": "GVxZtgv5Bk04"
      },
      "execution_count": null,
      "outputs": []
    },
    {
      "cell_type": "code",
      "source": [
        "#Join the geojson_f with the facilities_df dataframe\n",
        "df_final2 = geojson_f.merge(facilities_df, left_on=\"FID_\", right_on=\"FID\", how=\"outer\")"
      ],
      "metadata": {
        "id": "MdIml9npL0qD"
      },
      "execution_count": null,
      "outputs": []
    },
    {
      "cell_type": "code",
      "source": [
        "df_final.head()"
      ],
      "metadata": {
        "id": "i6G6lk_RB6RA"
      },
      "execution_count": null,
      "outputs": []
    },
    {
      "cell_type": "code",
      "source": [
        "df_final2.head()"
      ],
      "metadata": {
        "id": "FXZ-Fwy8MgGu"
      },
      "execution_count": null,
      "outputs": []
    },
    {
      "cell_type": "code",
      "source": [
        "# Create a map instance\n",
        "m = folium.Map(location=[-0.15386345206107715, 34.86414568574279],\n",
        "               zoom_start=10,\n",
        "               control_scale=True,\n",
        "               prefer_canvas=True)\n",
        "m"
      ],
      "metadata": {
        "id": "larFld7aCIsU"
      },
      "execution_count": null,
      "outputs": []
    },
    {
      "cell_type": "code",
      "source": [
        "folium.Choropleth(\n",
        "    geo_data=geojson,\n",
        "    name=\"Malaria Distribution by ward\",\n",
        "    data=malaria_df,\n",
        "    columns=['wardcode', 'Total_co'],\n",
        "    key_on='feature.properties.wardcode',\n",
        "    nan_fill_color=\"White\", #Use white color if there is no data available for the county\n",
        "    fill_color=\"YlOrRd\",\n",
        "    fill_opacity=0.7,\n",
        "    line_opacity=0.2,\n",
        "    legend_name=\"Total Confirmed Malaria  Cases in Kisumu\",\n",
        "    line_color='black',\n",
        "    highlight=True,\n",
        ").add_to(m)\n",
        "m"
      ],
      "metadata": {
        "id": "ofz81sHNCo68"
      },
      "execution_count": null,
      "outputs": []
    },
    {
      "cell_type": "code",
      "source": [
        "#Add Customized Tooltips to the map\n",
        "folium.features.GeoJson(\n",
        "                    data=df_final,\n",
        "                    name='Total Confirmed cases of Malaria in Kisumu',\n",
        "                    smooth_factor=2,\n",
        "                    style_function=lambda x: {'color':'black','fillColor':'transparent','weight':0.5},\n",
        "                    tooltip=folium.features.GeoJsonTooltip(\n",
        "                        fields=['wardcode',\n",
        "                                'ward',\n",
        "                                'Confirme',\n",
        "                                'Confirm1',\n",
        "                                'Malaria_',\n",
        "                                'Total_co'\n",
        "                               ],\n",
        "                        aliases=[\"WardCode:\",\n",
        "                                 \"Ward Name:\",\n",
        "                                 \"Confirmed Cases in Children under agve 5:\",\n",
        "                                 \"Confirmed Cases in persons greater than age 5:\",\n",
        "                                 \"Confirmed Cases in expectant women:\",\n",
        "                                 \"Total Confirmed Malaria Cases:\"\n",
        "                                ], \n",
        "                        localize=True,\n",
        "                        sticky=False,\n",
        "                        labels=True,\n",
        "                        style=\"\"\"\n",
        "                            background-color: #F0EFEF;\n",
        "                            border: 2px solid black;\n",
        "                            border-radius: 3px;\n",
        "                            box-shadow: 3px;\n",
        "                        \"\"\",\n",
        "                        max_width=800,),\n",
        "                            highlight_function=lambda x: {'weight':3,'fillColor':'grey'},\n",
        "                        ).add_to(m)   \n",
        "\n",
        "m"
      ],
      "metadata": {
        "id": "cCYAuJaBE_k9"
      },
      "execution_count": null,
      "outputs": []
    },
    {
      "cell_type": "code",
      "source": [
        "# Adding the tile control layer for the different tiles in Kisumu County\n",
        "folium.TileLayer('openstreetmap').add_to(m)\n",
        "folium.TileLayer('cartodbdark_matter').add_to(m)\n",
        "folium.TileLayer('Stamen terrain').add_to(m)\n",
        "folium.LayerControl().add_to(m)\n",
        "m"
      ],
      "metadata": {
        "id": "K7WMqSHZHfT_"
      },
      "execution_count": null,
      "outputs": []
    },
    {
      "cell_type": "code",
      "source": [
        "m.save('index.html')"
      ],
      "metadata": {
        "id": "sCc9uR6rH9vd"
      },
      "execution_count": null,
      "outputs": []
    }
  ]
}