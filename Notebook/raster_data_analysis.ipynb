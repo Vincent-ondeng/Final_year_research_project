{
  "nbformat": 4,
  "nbformat_minor": 0,
  "metadata": {
    "colab": {
      "provenance": [],
      "authorship_tag": "ABX9TyOozJyGF0N1U5M57TD1oePa",
      "include_colab_link": true
    },
    "kernelspec": {
      "name": "python3",
      "display_name": "Python 3"
    },
    "language_info": {
      "name": "python"
    }
  },
  "cells": [
    {
      "cell_type": "markdown",
      "metadata": {
        "id": "view-in-github",
        "colab_type": "text"
      },
      "source": [
        "<a href=\"https://colab.research.google.com/github/Vincent-ondeng/Final_year_research_project/blob/main/Notebook/raster_data_analysis.ipynb\" target=\"_parent\"><img src=\"https://colab.research.google.com/assets/colab-badge.svg\" alt=\"Open In Colab\"/></a>"
      ]
    },
    {
      "cell_type": "code",
      "execution_count": null,
      "metadata": {
        "id": "-MWguO6IwDCP"
      },
      "outputs": [],
      "source": [
        "!pip install rasterio\n",
        "!pip install fiona\n",
        "!pip install numpy"
      ]
    },
    {
      "cell_type": "code",
      "source": [
        "import rasterio\n",
        "import numpy as np\n",
        "import fiona\n",
        "import rasterio.mask\n",
        "\n",
        "print('Rasterio version: {}'.format(rasterio.__version__) )\n",
        "print('fiona version: {}'.format(fiona.__version__) )"
      ],
      "metadata": {
        "id": "NAGbW99gxxCO"
      },
      "execution_count": null,
      "outputs": []
    },
    {
      "cell_type": "code",
      "source": [
        "# path to the raster data\n",
        "in_img = r\"../content/Slope1.tif\"\n",
        "\n",
        "# Open a raster data\n",
        "ds = rasterio.open(in_img)\n",
        "print(ds)\n",
        "\n",
        "# reading the data\n",
        "data = ds.read()\n",
        "print(data)"
      ],
      "metadata": {
        "id": "dwXssSCAyJWf"
      },
      "execution_count": null,
      "outputs": []
    },
    {
      "cell_type": "code",
      "source": [
        "# How many bands does this image have?\n",
        "num_bands = ds.count\n",
        "print('Number of bands in image: ', num_bands)\n",
        "print(\"----------------------------------------------------------------------------------------------------\")\n",
        "\n",
        "# How many rows and columns?\n",
        "rows, cols = ds.shape\n",
        "print('Image size is: {0} rows x {1} columns.'.format(rows, cols))\n",
        "print(\"----------------------------------------------------------------------------------------------------\")\n",
        "\n",
        "# What is the raster's projection?\n",
        "proj = ds.crs\n",
        "print('Image projection: ', proj)\n",
        "print(\"----------------------------------------------------------------------------------------------------\")\n",
        "\n",
        "# What is the raster's \"geo-transform\"\n",
        "gt = ds.transform\n",
        "print('Image geo-transform: ', gt)\n",
        "print(\"----------------------------------------------------------------------------------------------------\")\n",
        "\n",
        "# Does the raster have a description?\n",
        "desc = ds.descriptions\n",
        "print('Raster description: ', desc)\n",
        "print(\"----------------------------------------------------------------------------------------------------\")\n",
        "\n",
        "# Does the raster have a metadata?\n",
        "metadata = ds.meta\n",
        "print('All raster metadata: ', metadata)\n",
        "print(\"----------------------------------------------------------------------------------------------------\")\n",
        "\n",
        "# Size of the image\n",
        "data_size = data.size\n",
        "print(\"Data size: \", data_size)\n",
        "print(\"----------------------------------------------------------------------------------------------------\")\n",
        "\n",
        "# Data type of the image\n",
        "dtype = data.dtype\n",
        "print(\"Data type: \", dtype)\n",
        "print(\"----------------------------------------------------------------------------------------------------\")\n",
        "\n",
        "# Get minimum and maximum value \n",
        "min_value = data.min()\n",
        "max_value = data.max()\n",
        "print(\"Data minimum value: \", min_value)\n",
        "print(\"Data maximum value: \", max_value)\n",
        "print(\"----------------------------------------------------------------------------------------------------\")"
      ],
      "metadata": {
        "colab": {
          "base_uri": "https://localhost:8080/"
        },
        "id": "tEoSoSNfzcdS",
        "outputId": "67ce0b9a-c8db-4fcf-eebc-ffe55c21f830"
      },
      "execution_count": 9,
      "outputs": [
        {
          "output_type": "stream",
          "name": "stdout",
          "text": [
            "Number of bands in image:  1\n",
            "----------------------------------------------------------------------------------------------------\n",
            "Image size is: 1584 rows x 3342 columns.\n",
            "----------------------------------------------------------------------------------------------------\n",
            "Image projection:  EPSG:4326\n",
            "----------------------------------------------------------------------------------------------------\n",
            "Image geo-transform:  | 0.00, 0.00, 34.41|\n",
            "| 0.00,-0.00, 0.03|\n",
            "| 0.00, 0.00, 1.00|\n",
            "----------------------------------------------------------------------------------------------------\n",
            "Raster description:  (None,)\n",
            "----------------------------------------------------------------------------------------------------\n",
            "All raster metadata:  {'driver': 'GTiff', 'dtype': 'float32', 'nodata': -3.4028230607370965e+38, 'width': 3342, 'height': 1584, 'count': 1, 'crs': CRS.from_epsg(4326), 'transform': Affine(0.00027777777777777604, 0.0, 34.41486111111111,\n",
            "       0.0, -0.00027777777777777604, 0.025694444444441134)}\n",
            "----------------------------------------------------------------------------------------------------\n",
            "Data size:  5293728\n",
            "----------------------------------------------------------------------------------------------------\n",
            "Data type:  float32\n",
            "----------------------------------------------------------------------------------------------------\n",
            "Data minimum value:  -3.402823e+38\n",
            "Data maximum value:  67.14271\n",
            "----------------------------------------------------------------------------------------------------\n"
          ]
        }
      ]
    },
    {
      "cell_type": "code",
      "source": [
        "# Get width and height of the raster\n",
        "shape = data.shape\n",
        "print(\"Data shape: \", shape)\n",
        "print(\"----------------------------------------------------------------------------------------------------\")"
      ],
      "metadata": {
        "id": "nG5e4AL60BjM"
      },
      "execution_count": null,
      "outputs": []
    },
    {
      "cell_type": "code",
      "source": [
        "ds = rasterio.open(in_img)\n",
        "data = ds.read()\n",
        "\n",
        "lista = data.copy()\n",
        "\n",
        "lista[np.where((lista >=-3) & (lista <= 5))] = 1 # Very High risk\n",
        "lista[np.where((lista >=5.1) & (lista <= 11.0))] = 2 # High Risk\n",
        "lista[np.where((lista >=11.1) & (lista <= 19.0))] = 3 # Moderate\n",
        "lista[np.where(lista >=19.1 )] = 4 # Low\n",
        "lista[np.where(lista >=30.0)] = 5 # Very Low risk\n",
        "\n",
        "\n",
        "with rasterio.open('../content/reclass_Slope1.tif', 'w',\n",
        "                   driver=ds.driver,\n",
        "                   height=ds.height,\n",
        "                   width=ds.width,\n",
        "                   count=ds.count,\n",
        "                   crs=ds.crs,\n",
        "                   transform=ds.transform,\n",
        "                   dtype=data.dtype\n",
        "\n",
        ") as dst:\n",
        "      dst.write(lista)"
      ],
      "metadata": {
        "id": "tfldIzWL1OBb"
      },
      "execution_count": 11,
      "outputs": []
    }
  ]
}