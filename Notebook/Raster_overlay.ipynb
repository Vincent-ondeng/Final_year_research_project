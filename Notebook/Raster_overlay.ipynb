{
  "nbformat": 4,
  "nbformat_minor": 0,
  "metadata": {
    "colab": {
      "provenance": [],
      "authorship_tag": "ABX9TyMFRNv1cAMFYpVxcO6VIHhy"
    },
    "kernelspec": {
      "name": "python3",
      "display_name": "Python 3"
    },
    "language_info": {
      "name": "python"
    }
  },
  "cells": [
    {
      "cell_type": "code",
      "execution_count": null,
      "metadata": {
        "id": "a_LXjrtlVM_a"
      },
      "outputs": [],
      "source": [
        "!pip install folium\n",
        "!pip install scipy"
      ]
    },
    {
      "cell_type": "code",
      "source": [
        "import folium\n",
        "from folium import plugins\n",
        "from scipy.ndimage import imread"
      ],
      "metadata": {
        "id": "JM7_MaEuV3aW"
      },
      "execution_count": null,
      "outputs": []
    },
    {
      "cell_type": "code",
      "source": [
        "# boundary of the image on the map\n",
        "min_lon = -123.5617\n",
        "max_lon = -121.0617\n",
        "min_lat = 37.382166\n",
        "max_lat = 39.048834"
      ],
      "metadata": {
        "id": "_NQ-OLRyXOLW"
      },
      "execution_count": null,
      "outputs": []
    },
    {
      "cell_type": "code",
      "source": [
        "# create the map\n",
        "map_ = folium.Map(location=[-0.15386345206107715, 34.86414568574279],\n",
        "                  tiles='Stamen Terrain', zoom_start = 10)\n",
        "\n",
        "# read in png file to numpy array\n",
        "data = imread('/content/Slope1.tif')\n",
        "\n",
        "# Overlay the image\n",
        "map_.add_children(plugins.ImageOverlay(data, opacity=0.8, \\\n",
        "        bounds =[[min_lat, min_lon], [max_lat, max_lon]]))\n",
        "map_"
      ],
      "metadata": {
        "id": "dxwfLGMCjD5a"
      },
      "execution_count": null,
      "outputs": []
    }
  ]
}