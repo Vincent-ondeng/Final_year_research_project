{
  "nbformat": 4,
  "nbformat_minor": 0,
  "metadata": {
    "colab": {
      "provenance": [],
      "authorship_tag": "ABX9TyM10KMiRWuKLZvXrdILeSrL",
      "include_colab_link": true
    },
    "kernelspec": {
      "name": "python3",
      "display_name": "Python 3"
    },
    "language_info": {
      "name": "python"
    }
  },
  "cells": [
    {
      "cell_type": "markdown",
      "metadata": {
        "id": "view-in-github",
        "colab_type": "text"
      },
      "source": [
        "<a href=\"https://colab.research.google.com/github/Vincent-ondeng/Final_year_research_project/blob/main/Notebook/Raster_overlay.ipynb\" target=\"_parent\"><img src=\"https://colab.research.google.com/assets/colab-badge.svg\" alt=\"Open In Colab\"/></a>"
      ]
    },
    {
      "cell_type": "code",
      "execution_count": null,
      "metadata": {
        "id": "a_LXjrtlVM_a"
      },
      "outputs": [],
      "source": [
        "!pip install leafmap\n",
        "!pip install rasterio\n",
        "!pip install fiona\n",
        "!pip install localtileserver"
      ]
    },
    {
      "cell_type": "code",
      "source": [
        "import leafmap"
      ],
      "metadata": {
        "id": "JM7_MaEuV3aW"
      },
      "execution_count": 18,
      "outputs": []
    },
    {
      "cell_type": "code",
      "source": [
        "# download a sample raster dataset\n",
        "url = (\n",
        "    'https://drive.google.com/file/d/1fD_k3yrhmPvqsQjZ5-HXraTHyYw0fbi0/view?usp=sharing'\n",
        ")\n",
        "slope = 'Slope1.tif'"
      ],
      "metadata": {
        "id": "_NQ-OLRyXOLW"
      },
      "execution_count": 19,
      "outputs": []
    },
    {
      "cell_type": "code",
      "source": [
        "leafmap.download_file(url, slope)"
      ],
      "metadata": {
        "colab": {
          "base_uri": "https://localhost:8080/",
          "height": 53
        },
        "id": "UG7-4ysdPjcC",
        "outputId": "fa51cce6-e6b4-4b23-a6f7-51167805699b"
      },
      "execution_count": 20,
      "outputs": [
        {
          "output_type": "stream",
          "name": "stdout",
          "text": [
            "Slope1.tif already exists. Skip downloading. Set overwrite=True to overwrite.\n"
          ]
        },
        {
          "output_type": "execute_result",
          "data": {
            "text/plain": [
              "'/content/Slope1.tif'"
            ],
            "application/vnd.google.colaboratory.intrinsic+json": {
              "type": "string"
            }
          },
          "metadata": {},
          "execution_count": 20
        }
      ]
    },
    {
      "cell_type": "code",
      "source": [
        "m = leafmap.Map(location=[-0.15386345206107715, 34.86414568574279], zoom_start=7)\n",
        "m.add_raster(slope, palette='terrain', layer_name='SLOPE')\n",
        "m"
      ],
      "metadata": {
        "id": "phSx3Za-P62N"
      },
      "execution_count": null,
      "outputs": []
    }
  ]
}