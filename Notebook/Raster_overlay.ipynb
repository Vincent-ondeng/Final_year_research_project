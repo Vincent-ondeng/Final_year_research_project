{
  "nbformat": 4,
  "nbformat_minor": 0,
  "metadata": {
    "colab": {
      "provenance": [],
      "authorship_tag": "ABX9TyMJpwC56FfhhC1xfsvP691I",
      "include_colab_link": true
    },
    "kernelspec": {
      "name": "python3",
      "display_name": "Python 3"
    },
    "language_info": {
      "name": "python"
    }
  },
  "cells": [
    {
      "cell_type": "markdown",
      "metadata": {
        "id": "view-in-github",
        "colab_type": "text"
      },
      "source": [
        "<a href=\"https://colab.research.google.com/github/Vincent-ondeng/Final_year_research_project/blob/main/Notebook/Raster_overlay.ipynb\" target=\"_parent\"><img src=\"https://colab.research.google.com/assets/colab-badge.svg\" alt=\"Open In Colab\"/></a>"
      ]
    },
    {
      "cell_type": "code",
      "execution_count": null,
      "metadata": {
        "id": "a_LXjrtlVM_a"
      },
      "outputs": [],
      "source": [
        "!pip install geemap"
      ]
    },
    {
      "cell_type": "code",
      "source": [
        "import os\n",
        "import geemap\n",
        "\n",
        "elevation = '/content/Slope1.tif'"
      ],
      "metadata": {
        "id": "JM7_MaEuV3aW"
      },
      "execution_count": 2,
      "outputs": []
    },
    {
      "cell_type": "code",
      "source": [
        "Map = geemap.Map()"
      ],
      "metadata": {
        "id": "_NQ-OLRyXOLW"
      },
      "execution_count": null,
      "outputs": []
    }
  ]
}