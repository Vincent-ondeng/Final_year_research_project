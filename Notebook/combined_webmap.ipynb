{
  "nbformat": 4,
  "nbformat_minor": 0,
  "metadata": {
    "colab": {
      "provenance": [],
      "authorship_tag": "ABX9TyPtGYFJJFKxlFTtvwC+hxHI",
      "include_colab_link": true
    },
    "kernelspec": {
      "name": "python3",
      "display_name": "Python 3"
    },
    "language_info": {
      "name": "python"
    }
  },
  "cells": [
    {
      "cell_type": "markdown",
      "metadata": {
        "id": "view-in-github",
        "colab_type": "text"
      },
      "source": [
        "<a href=\"https://colab.research.google.com/github/Vincent-ondeng/Final_year_research_project/blob/main/Notebook/combined_webmap.ipynb\" target=\"_parent\"><img src=\"https://colab.research.google.com/assets/colab-badge.svg\" alt=\"Open In Colab\"/></a>"
      ]
    },
    {
      "cell_type": "code",
      "execution_count": null,
      "metadata": {
        "id": "4QRqAVR3Ln0Q"
      },
      "outputs": [],
      "source": [
        "# Install the neccessary libraries and dependencies\n",
        "!pip install folium\n",
        "!pip install geopandas\n",
        "!pip install pandas\n",
        "!pip install numpy"
      ]
    },
    {
      "cell_type": "code",
      "source": [
        "#Import Libraries\n",
        "import geopandas as gpd\n",
        "import pandas as pd\n",
        "import numpy as np\n",
        "import folium\n",
        "from folium.features import GeoJsonTooltip\n",
        "from folium.plugins import MarkerCluster"
      ],
      "metadata": {
        "id": "l5sGwOJ5L5pk"
      },
      "execution_count": 20,
      "outputs": []
    },
    {
      "cell_type": "code",
      "source": [
        "# Read the GeoJSON file using Geopandas\n",
        "geojson = gpd.read_file(\"/content/wards.geojson\")\n",
        "#geojson=geojson[['wardcode','geometry']] #only select 'wardcode' (Ward_Code) and 'geometry' columns\n",
        "\n",
        "geojson2 = gpd.read_file(\"/content/subcounty.geojson\")\n",
        "geojson2=geojson2[['FID_','geometry']] #only select 'FID' and 'geometry' columns\n"
      ],
      "metadata": {
        "id": "RXPEHzxUL_xi"
      },
      "execution_count": 21,
      "outputs": []
    },
    {
      "cell_type": "code",
      "source": [
        "df = pd.read_csv('/content/facilities_coordinates.csv')\n",
        "# df.head()"
      ],
      "metadata": {
        "id": "m7d7gPypWNpd"
      },
      "execution_count": 22,
      "outputs": []
    },
    {
      "cell_type": "code",
      "source": [
        "#Read the covid-19 data using pandas\n",
        "malaria_df=pd.read_csv(\"/content/wards.csv\")\n",
        "subcounty_df=pd.read_csv(\"/content/subcounty.csv\")"
      ],
      "metadata": {
        "id": "svTAP6zzMmpj"
      },
      "execution_count": 23,
      "outputs": []
    },
    {
      "cell_type": "code",
      "source": [
        "geojson.head()\n",
        "geojson2.head()\n",
        "malaria_df.head()\n",
        "subcounty_df.head()"
      ],
      "metadata": {
        "id": "swQ8oRpEOBOI"
      },
      "execution_count": null,
      "outputs": []
    },
    {
      "cell_type": "code",
      "source": [
        "#Join the geojson file with malaria_df\n",
        "df_final = geojson.merge(malaria_df, left_on=\"wardcode\", right_on=\"wardcode\", how=\"outer\")"
      ],
      "metadata": {
        "id": "2rN8CNVWOozD"
      },
      "execution_count": 25,
      "outputs": []
    },
    {
      "cell_type": "code",
      "source": [
        "#Join the geojson file with malaria_df\n",
        "df_final2 = geojson2.merge(subcounty_df, left_on=\"FID_\", right_on=\"FID_\", how=\"outer\")"
      ],
      "metadata": {
        "id": "-2jcJC3BOzsy"
      },
      "execution_count": 26,
      "outputs": []
    },
    {
      "cell_type": "code",
      "source": [
        "df_final.head()\n",
        "df_final2.head()"
      ],
      "metadata": {
        "id": "tWhj9PptQmnk"
      },
      "execution_count": null,
      "outputs": []
    },
    {
      "cell_type": "code",
      "source": [
        "# Create a map instance\n",
        "m = folium.Map(location=[-0.15386345206107715, 34.86414568574279],\n",
        "               zoom_start=10,\n",
        "               control_scale=True,\n",
        "               prefer_canvas=True)"
      ],
      "metadata": {
        "id": "47zJmMA0Q537"
      },
      "execution_count": 28,
      "outputs": []
    },
    {
      "cell_type": "code",
      "source": [
        "choropleth=folium.Choropleth(\n",
        "    geo_data=geojson,\n",
        "    name=\"County Assembly ward malaria distribution\",\n",
        "    data=malaria_df,\n",
        "    columns=['wardcode', 'Total_co'],\n",
        "    key_on='feature.properties.wardcode',\n",
        "    nan_fill_color=\"White\", #Use white color if there is no data available for the county\n",
        "    fill_color=\"YlOrRd\",\n",
        "    fill_opacity=0.7,\n",
        "    line_opacity=0.2,\n",
        "    legend_name=\"County Assembly Wards Legend\",\n",
        "    line_color='black',\n",
        "    highlight=True,\n",
        ").add_to(m)\n",
        "#Add Customized Tooltips to the map\n",
        "folium.features.GeoJson(\n",
        "                    data=df_final,\n",
        "                    #name='Total Confirmed cases of Malaria in Kisumu',\n",
        "                    smooth_factor=2,\n",
        "                    style_function=lambda x: {'color':'black','fillColor':'transparent','weight':0.5},\n",
        "                    tooltip=folium.features.GeoJsonTooltip(\n",
        "                        fields=['wardcode',\n",
        "                                'ward',\n",
        "                                'Confirme',\n",
        "                                'Confirm1',\n",
        "                                'Malaria_',\n",
        "                                'Total_co'\n",
        "                               ],\n",
        "                        aliases=[\"WardCode:\",\n",
        "                                 \"Ward Name:\",\n",
        "                                 \"Confirmed Cases in Children under agve 5:\",\n",
        "                                 \"Confirmed Cases in persons greater than age 5:\",\n",
        "                                 \"Confirmed Cases in expectant women:\",\n",
        "                                 \"Total Confirmed Malaria Cases:\"\n",
        "                                ], \n",
        "                        localize=True,\n",
        "                        sticky=False,\n",
        "                        labels=True,\n",
        "                        style=\"\"\"\n",
        "                            background-color: #F0EFEF;\n",
        "                            border: 2px solid black;\n",
        "                            border-radius: 3px;\n",
        "                            box-shadow: 3px;\n",
        "                        \"\"\",\n",
        "                        max_width=800,),\n",
        "                            highlight_function=lambda x: {'weight':3,'fillColor':'grey'},\n",
        "                        ).add_to(choropleth)"
      ],
      "metadata": {
        "id": "uvDIACjgRCni"
      },
      "execution_count": null,
      "outputs": []
    },
    {
      "cell_type": "code",
      "source": [
        "choropleth1=folium.Choropleth(\n",
        "    geo_data=geojson2,\n",
        "    name=\"Malaria Distribution by Sub-county\",\n",
        "    data=subcounty_df,\n",
        "    columns=['FID_', 'Total Confirmed Cases in All age groups'],\n",
        "    key_on='feature.properties.FID_',\n",
        "    nan_fill_color=\"White\", #Use white color if there is no data available for the county\n",
        "    fill_color=\"YlOrRd\",\n",
        "    fill_opacity=0.7,\n",
        "    line_opacity=0.2,\n",
        "    legend_name=\"Sub-county Distribution Legend\",\n",
        "    line_color='black',\n",
        "    highlight=True,\n",
        ").add_to(m)\n",
        "#Add Customized Tooltips to the map\n",
        "folium.features.GeoJson(\n",
        "                    data=df_final2,\n",
        "                    name='Total Confirmed cases of Malaria in Kisumu',\n",
        "                    smooth_factor=2,\n",
        "                    style_function=lambda x: {'color':'black','fillColor':'transparent','weight':0.5},\n",
        "                    tooltip=folium.features.GeoJsonTooltip(\n",
        "                        fields=['Sub-county Name',\n",
        "                                'Confirmed Malaria (only Positive cases) <5 yrs',\n",
        "                                'Confirmed Malaria (only Positive cases) >5 yrs',\n",
        "                                'Malaria in pregnancy >5 yrs',\n",
        "                                'Total Confirmed Cases in All age groups',\n",
        "                                'Malaria Incidence per 1000'\n",
        "                               ],\n",
        "                        aliases=[\"Sub-county Name:\",\n",
        "                                 \"Confirmed Malaria (only Positive cases) <5 yrs:\",\n",
        "                                 \"Confirmed Malaria (only Positive cases) >5 yrs:\",\n",
        "                                 \"Malaria in pregnancy >5 yrs:\",\n",
        "                                 \"Total Confirmed Cases in All age groups:\",\n",
        "                                 \"Malaria Incidence per 1000:\"\n",
        "                                ], \n",
        "                        localize=True,\n",
        "                        sticky=False,\n",
        "                        labels=True,\n",
        "                        style=\"\"\"\n",
        "                            background-color: #F0EFEF;\n",
        "                            border: 2px solid black;\n",
        "                            border-radius: 3px;\n",
        "                            box-shadow: 3px;\n",
        "                        \"\"\",\n",
        "                        max_width=800,),\n",
        "                            highlight_function=lambda x: {'weight':3,'fillColor':'grey'},\n",
        "                        ).add_to(choropleth1)"
      ],
      "metadata": {
        "id": "71P5aU5MRW-6"
      },
      "execution_count": null,
      "outputs": []
    },
    {
      "cell_type": "code",
      "source": [
        "location = df['Latitude'].mean(), df['Longitude'].mean()"
      ],
      "metadata": {
        "id": "wd0pUM0oWT7C"
      },
      "execution_count": 31,
      "outputs": []
    },
    {
      "cell_type": "code",
      "source": [
        "markerCluster = MarkerCluster().add_to(m)"
      ],
      "metadata": {
        "id": "Rp4swQ__W0GK"
      },
      "execution_count": 32,
      "outputs": []
    },
    {
      "cell_type": "code",
      "source": [
        "def popup_html(row):\n",
        "  i = row\n",
        "  facility_name=df['Facility'].iloc[i]\n",
        "  malaria_in_children=df['Confirmed Malaria (only Positive cases) <5 yrs'].iloc[i]\n",
        "  greater_than_5=df['Confirmed Malaria (only Positive cases) >5 yrs'].iloc[i]\n",
        "  pregnant_women=df['Malaria in pregnancy >5 yrs'].iloc[i]\n",
        "  total_cases=df['Confirmed Malaria cases in all age groups'].iloc[i]\n",
        "\n",
        "  html = \"\"\"\n",
        "<!DOCTYPE html>\n",
        "<html>\n",
        "<tbody>\n",
        "<tr>\n",
        "<td style=\"text-align: left;\"><span><b>Facility Name:</b></span></td>\n",
        "<td style=\"text-align:right;\">\"\"\"+facility_name + \"\"\"</td>\n",
        "</tr><br>\n",
        "<tr>\n",
        "<td style=\"text-align: left;\"><span><b>Confirmed Malaria (only Positive cases) <5 yrs:</b></span></td>\n",
        "<td style=\"padding: 2px; padding-right:8px;\">{}</td>\"\"\".format(malaria_in_children) + \"\"\"\n",
        "</tr><br>\n",
        "<tr>\n",
        "<td style=\"text-align: left;\"><span><b>Confirmed Malaria (only Positive cases) >5 yrs:<b></span></td>\n",
        "<td style=\"padding: 2px; padding-right:8px;\">{}</td>\"\"\".format(greater_than_5) + \"\"\"\n",
        "</tr><br>\n",
        "<tr>\n",
        "<td style=\"text-align: left;\"><span><b>Malaria in pregnancy >5 yrs:</b></span></td>\n",
        "<td style=\"padding: 2px; padding-right:8px;\">{}</td>\"\"\".format(pregnant_women) + \"\"\"</td>\n",
        "</tr><br>\n",
        "<tr>\n",
        "<td style=\"text-align: left;\"><span><b>Confirmed Malaria cases in all age groups:</b></span></td>\n",
        "<td style=\"padding: 2px; padding-right:8px;\">{}</td>\"\"\".format(total_cases) + \"\"\"\n",
        "</tr>\n",
        "</tbody>\n",
        "</html>\n",
        "\"\"\"\n",
        "  return html"
      ],
      "metadata": {
        "id": "l1N9rDUAW4we"
      },
      "execution_count": 33,
      "outputs": []
    },
    {
      "cell_type": "code",
      "source": [
        "for i in range(0,len(df)):\n",
        "\n",
        "  html = popup_html(i)\n",
        "  popup = folium.Popup(folium.Html(html, script=True), max_width=500)\n",
        "  Health_facility=folium.CircleMarker([df['Latitude'].iloc[i], df['Longitude'].iloc[i]], popup=popup).add_to(markerCluster)"
      ],
      "metadata": {
        "id": "8JEvW9cyW_Ah"
      },
      "execution_count": 34,
      "outputs": []
    },
    {
      "cell_type": "code",
      "source": [
        "folium.TileLayer('OpenStreetMap',overlay=True,name=\"Street View\").add_to(m)\n",
        "folium.TileLayer('Stamen Terrain',overlay=True,name=\"Terrain\").add_to(m)"
      ],
      "metadata": {
        "id": "s1Yh-bLFhuzh"
      },
      "execution_count": null,
      "outputs": []
    },
    {
      "cell_type": "code",
      "source": [
        "folium.LayerControl(collapsed=True).add_to(m)\n",
        "m"
      ],
      "metadata": {
        "id": "EyKUvL9oaJh_",
        "colab": {
          "base_uri": "https://localhost:8080/",
          "height": 432
        },
        "outputId": "7c7a2edf-beee-49b9-8938-c966559ae0e3"
      },
      "execution_count": 36,
      "outputs": [
        {
          "output_type": "error",
          "ename": "AssertionError",
          "evalue": "ignored",
          "traceback": [
            "\u001b[0;31m---------------------------------------------------------------------------\u001b[0m",
            "\u001b[0;31mAssertionError\u001b[0m                            Traceback (most recent call last)",
            "\u001b[0;32m/usr/local/lib/python3.9/dist-packages/IPython/core/formatters.py\u001b[0m in \u001b[0;36m__call__\u001b[0;34m(self, obj)\u001b[0m\n\u001b[1;32m    343\u001b[0m             \u001b[0mmethod\u001b[0m \u001b[0;34m=\u001b[0m \u001b[0mget_real_method\u001b[0m\u001b[0;34m(\u001b[0m\u001b[0mobj\u001b[0m\u001b[0;34m,\u001b[0m \u001b[0mself\u001b[0m\u001b[0;34m.\u001b[0m\u001b[0mprint_method\u001b[0m\u001b[0;34m)\u001b[0m\u001b[0;34m\u001b[0m\u001b[0;34m\u001b[0m\u001b[0m\n\u001b[1;32m    344\u001b[0m             \u001b[0;32mif\u001b[0m \u001b[0mmethod\u001b[0m \u001b[0;32mis\u001b[0m \u001b[0;32mnot\u001b[0m \u001b[0;32mNone\u001b[0m\u001b[0;34m:\u001b[0m\u001b[0;34m\u001b[0m\u001b[0;34m\u001b[0m\u001b[0m\n\u001b[0;32m--> 345\u001b[0;31m                 \u001b[0;32mreturn\u001b[0m \u001b[0mmethod\u001b[0m\u001b[0;34m(\u001b[0m\u001b[0;34m)\u001b[0m\u001b[0;34m\u001b[0m\u001b[0;34m\u001b[0m\u001b[0m\n\u001b[0m\u001b[1;32m    346\u001b[0m             \u001b[0;32mreturn\u001b[0m \u001b[0;32mNone\u001b[0m\u001b[0;34m\u001b[0m\u001b[0;34m\u001b[0m\u001b[0m\n\u001b[1;32m    347\u001b[0m         \u001b[0;32melse\u001b[0m\u001b[0;34m:\u001b[0m\u001b[0;34m\u001b[0m\u001b[0;34m\u001b[0m\u001b[0m\n",
            "\u001b[0;32m/usr/local/lib/python3.9/dist-packages/folium/folium.py\u001b[0m in \u001b[0;36m_repr_html_\u001b[0;34m(self, **kwargs)\u001b[0m\n\u001b[1;32m    317\u001b[0m             \u001b[0mself\u001b[0m\u001b[0;34m.\u001b[0m\u001b[0m_parent\u001b[0m \u001b[0;34m=\u001b[0m \u001b[0;32mNone\u001b[0m\u001b[0;34m\u001b[0m\u001b[0;34m\u001b[0m\u001b[0m\n\u001b[1;32m    318\u001b[0m         \u001b[0;32melse\u001b[0m\u001b[0;34m:\u001b[0m\u001b[0;34m\u001b[0m\u001b[0;34m\u001b[0m\u001b[0m\n\u001b[0;32m--> 319\u001b[0;31m             \u001b[0mout\u001b[0m \u001b[0;34m=\u001b[0m \u001b[0mself\u001b[0m\u001b[0;34m.\u001b[0m\u001b[0m_parent\u001b[0m\u001b[0;34m.\u001b[0m\u001b[0m_repr_html_\u001b[0m\u001b[0;34m(\u001b[0m\u001b[0;34m**\u001b[0m\u001b[0mkwargs\u001b[0m\u001b[0;34m)\u001b[0m\u001b[0;34m\u001b[0m\u001b[0;34m\u001b[0m\u001b[0m\n\u001b[0m\u001b[1;32m    320\u001b[0m         \u001b[0;32mreturn\u001b[0m \u001b[0mout\u001b[0m\u001b[0;34m\u001b[0m\u001b[0;34m\u001b[0m\u001b[0m\n\u001b[1;32m    321\u001b[0m \u001b[0;34m\u001b[0m\u001b[0m\n",
            "\u001b[0;32m/usr/local/lib/python3.9/dist-packages/branca/element.py\u001b[0m in \u001b[0;36m_repr_html_\u001b[0;34m(self, **kwargs)\u001b[0m\n\u001b[1;32m    341\u001b[0m     \u001b[0;32mdef\u001b[0m \u001b[0m_repr_html_\u001b[0m\u001b[0;34m(\u001b[0m\u001b[0mself\u001b[0m\u001b[0;34m,\u001b[0m \u001b[0;34m**\u001b[0m\u001b[0mkwargs\u001b[0m\u001b[0;34m)\u001b[0m\u001b[0;34m:\u001b[0m\u001b[0;34m\u001b[0m\u001b[0;34m\u001b[0m\u001b[0m\n\u001b[1;32m    342\u001b[0m         \u001b[0;34m\"\"\"Displays the Figure in a Jupyter notebook.\"\"\"\u001b[0m\u001b[0;34m\u001b[0m\u001b[0;34m\u001b[0m\u001b[0m\n\u001b[0;32m--> 343\u001b[0;31m         \u001b[0mhtml\u001b[0m \u001b[0;34m=\u001b[0m \u001b[0mescape\u001b[0m\u001b[0;34m(\u001b[0m\u001b[0mself\u001b[0m\u001b[0;34m.\u001b[0m\u001b[0mrender\u001b[0m\u001b[0;34m(\u001b[0m\u001b[0;34m**\u001b[0m\u001b[0mkwargs\u001b[0m\u001b[0;34m)\u001b[0m\u001b[0;34m)\u001b[0m\u001b[0;34m\u001b[0m\u001b[0;34m\u001b[0m\u001b[0m\n\u001b[0m\u001b[1;32m    344\u001b[0m         \u001b[0;32mif\u001b[0m \u001b[0mself\u001b[0m\u001b[0;34m.\u001b[0m\u001b[0mheight\u001b[0m \u001b[0;32mis\u001b[0m \u001b[0;32mNone\u001b[0m\u001b[0;34m:\u001b[0m\u001b[0;34m\u001b[0m\u001b[0;34m\u001b[0m\u001b[0m\n\u001b[1;32m    345\u001b[0m             iframe = (\n",
            "\u001b[0;32m/usr/local/lib/python3.9/dist-packages/branca/element.py\u001b[0m in \u001b[0;36mrender\u001b[0;34m(self, **kwargs)\u001b[0m\n\u001b[1;32m    336\u001b[0m         \u001b[0;34m\"\"\"Renders the HTML representation of the element.\"\"\"\u001b[0m\u001b[0;34m\u001b[0m\u001b[0;34m\u001b[0m\u001b[0m\n\u001b[1;32m    337\u001b[0m         \u001b[0;32mfor\u001b[0m \u001b[0mname\u001b[0m\u001b[0;34m,\u001b[0m \u001b[0mchild\u001b[0m \u001b[0;32min\u001b[0m \u001b[0mself\u001b[0m\u001b[0;34m.\u001b[0m\u001b[0m_children\u001b[0m\u001b[0;34m.\u001b[0m\u001b[0mitems\u001b[0m\u001b[0;34m(\u001b[0m\u001b[0;34m)\u001b[0m\u001b[0;34m:\u001b[0m\u001b[0;34m\u001b[0m\u001b[0;34m\u001b[0m\u001b[0m\n\u001b[0;32m--> 338\u001b[0;31m             \u001b[0mchild\u001b[0m\u001b[0;34m.\u001b[0m\u001b[0mrender\u001b[0m\u001b[0;34m(\u001b[0m\u001b[0;34m**\u001b[0m\u001b[0mkwargs\u001b[0m\u001b[0;34m)\u001b[0m\u001b[0;34m\u001b[0m\u001b[0;34m\u001b[0m\u001b[0m\n\u001b[0m\u001b[1;32m    339\u001b[0m         \u001b[0;32mreturn\u001b[0m \u001b[0mself\u001b[0m\u001b[0;34m.\u001b[0m\u001b[0m_template\u001b[0m\u001b[0;34m.\u001b[0m\u001b[0mrender\u001b[0m\u001b[0;34m(\u001b[0m\u001b[0mthis\u001b[0m\u001b[0;34m=\u001b[0m\u001b[0mself\u001b[0m\u001b[0;34m,\u001b[0m \u001b[0mkwargs\u001b[0m\u001b[0;34m=\u001b[0m\u001b[0mkwargs\u001b[0m\u001b[0;34m)\u001b[0m\u001b[0;34m\u001b[0m\u001b[0;34m\u001b[0m\u001b[0m\n\u001b[1;32m    340\u001b[0m \u001b[0;34m\u001b[0m\u001b[0m\n",
            "\u001b[0;32m/usr/local/lib/python3.9/dist-packages/folium/folium.py\u001b[0m in \u001b[0;36mrender\u001b[0;34m(self, **kwargs)\u001b[0m\n\u001b[1;32m    399\u001b[0m         )\n\u001b[1;32m    400\u001b[0m \u001b[0;34m\u001b[0m\u001b[0m\n\u001b[0;32m--> 401\u001b[0;31m         \u001b[0msuper\u001b[0m\u001b[0;34m(\u001b[0m\u001b[0;34m)\u001b[0m\u001b[0;34m.\u001b[0m\u001b[0mrender\u001b[0m\u001b[0;34m(\u001b[0m\u001b[0;34m**\u001b[0m\u001b[0mkwargs\u001b[0m\u001b[0;34m)\u001b[0m\u001b[0;34m\u001b[0m\u001b[0;34m\u001b[0m\u001b[0m\n\u001b[0m\u001b[1;32m    402\u001b[0m \u001b[0;34m\u001b[0m\u001b[0m\n\u001b[1;32m    403\u001b[0m     \u001b[0;32mdef\u001b[0m \u001b[0mshow_in_browser\u001b[0m\u001b[0;34m(\u001b[0m\u001b[0mself\u001b[0m\u001b[0;34m)\u001b[0m\u001b[0;34m:\u001b[0m\u001b[0;34m\u001b[0m\u001b[0;34m\u001b[0m\u001b[0m\n",
            "\u001b[0;32m/usr/local/lib/python3.9/dist-packages/folium/elements.py\u001b[0m in \u001b[0;36mrender\u001b[0;34m(self, **kwargs)\u001b[0m\n\u001b[1;32m     20\u001b[0m             \u001b[0mfigure\u001b[0m\u001b[0;34m.\u001b[0m\u001b[0mheader\u001b[0m\u001b[0;34m.\u001b[0m\u001b[0madd_child\u001b[0m\u001b[0;34m(\u001b[0m\u001b[0mCssLink\u001b[0m\u001b[0;34m(\u001b[0m\u001b[0murl\u001b[0m\u001b[0;34m)\u001b[0m\u001b[0;34m,\u001b[0m \u001b[0mname\u001b[0m\u001b[0;34m=\u001b[0m\u001b[0mname\u001b[0m\u001b[0;34m)\u001b[0m\u001b[0;34m\u001b[0m\u001b[0;34m\u001b[0m\u001b[0m\n\u001b[1;32m     21\u001b[0m \u001b[0;34m\u001b[0m\u001b[0m\n\u001b[0;32m---> 22\u001b[0;31m         \u001b[0msuper\u001b[0m\u001b[0;34m(\u001b[0m\u001b[0;34m)\u001b[0m\u001b[0;34m.\u001b[0m\u001b[0mrender\u001b[0m\u001b[0;34m(\u001b[0m\u001b[0;34m**\u001b[0m\u001b[0mkwargs\u001b[0m\u001b[0;34m)\u001b[0m\u001b[0;34m\u001b[0m\u001b[0;34m\u001b[0m\u001b[0m\n\u001b[0m",
            "\u001b[0;32m/usr/local/lib/python3.9/dist-packages/branca/element.py\u001b[0m in \u001b[0;36mrender\u001b[0;34m(self, **kwargs)\u001b[0m\n\u001b[1;32m    643\u001b[0m \u001b[0;34m\u001b[0m\u001b[0m\n\u001b[1;32m    644\u001b[0m         \u001b[0;32mfor\u001b[0m \u001b[0mname\u001b[0m\u001b[0;34m,\u001b[0m \u001b[0melement\u001b[0m \u001b[0;32min\u001b[0m \u001b[0mself\u001b[0m\u001b[0;34m.\u001b[0m\u001b[0m_children\u001b[0m\u001b[0;34m.\u001b[0m\u001b[0mitems\u001b[0m\u001b[0;34m(\u001b[0m\u001b[0;34m)\u001b[0m\u001b[0;34m:\u001b[0m\u001b[0;34m\u001b[0m\u001b[0;34m\u001b[0m\u001b[0m\n\u001b[0;32m--> 645\u001b[0;31m             \u001b[0melement\u001b[0m\u001b[0;34m.\u001b[0m\u001b[0mrender\u001b[0m\u001b[0;34m(\u001b[0m\u001b[0;34m**\u001b[0m\u001b[0mkwargs\u001b[0m\u001b[0;34m)\u001b[0m\u001b[0;34m\u001b[0m\u001b[0;34m\u001b[0m\u001b[0m\n\u001b[0m",
            "\u001b[0;32m/usr/local/lib/python3.9/dist-packages/folium/features.py\u001b[0m in \u001b[0;36mrender\u001b[0;34m(self, **kwargs)\u001b[0m\n\u001b[1;32m   1607\u001b[0m             \u001b[0mself\u001b[0m\u001b[0;34m.\u001b[0m\u001b[0mcolor_scale\u001b[0m\u001b[0;34m.\u001b[0m\u001b[0m_parent\u001b[0m \u001b[0;34m=\u001b[0m \u001b[0mself\u001b[0m\u001b[0;34m.\u001b[0m\u001b[0m_parent\u001b[0m\u001b[0;34m\u001b[0m\u001b[0;34m\u001b[0m\u001b[0m\n\u001b[1;32m   1608\u001b[0m \u001b[0;34m\u001b[0m\u001b[0m\n\u001b[0;32m-> 1609\u001b[0;31m         \u001b[0msuper\u001b[0m\u001b[0;34m(\u001b[0m\u001b[0;34m)\u001b[0m\u001b[0;34m.\u001b[0m\u001b[0mrender\u001b[0m\u001b[0;34m(\u001b[0m\u001b[0;34m**\u001b[0m\u001b[0mkwargs\u001b[0m\u001b[0;34m)\u001b[0m\u001b[0;34m\u001b[0m\u001b[0;34m\u001b[0m\u001b[0m\n\u001b[0m\u001b[1;32m   1610\u001b[0m \u001b[0;34m\u001b[0m\u001b[0m\n\u001b[1;32m   1611\u001b[0m \u001b[0;34m\u001b[0m\u001b[0m\n",
            "\u001b[0;32m/usr/local/lib/python3.9/dist-packages/branca/element.py\u001b[0m in \u001b[0;36mrender\u001b[0;34m(self, **kwargs)\u001b[0m\n\u001b[1;32m    643\u001b[0m \u001b[0;34m\u001b[0m\u001b[0m\n\u001b[1;32m    644\u001b[0m         \u001b[0;32mfor\u001b[0m \u001b[0mname\u001b[0m\u001b[0;34m,\u001b[0m \u001b[0melement\u001b[0m \u001b[0;32min\u001b[0m \u001b[0mself\u001b[0m\u001b[0;34m.\u001b[0m\u001b[0m_children\u001b[0m\u001b[0;34m.\u001b[0m\u001b[0mitems\u001b[0m\u001b[0;34m(\u001b[0m\u001b[0;34m)\u001b[0m\u001b[0;34m:\u001b[0m\u001b[0;34m\u001b[0m\u001b[0;34m\u001b[0m\u001b[0m\n\u001b[0;32m--> 645\u001b[0;31m             \u001b[0melement\u001b[0m\u001b[0;34m.\u001b[0m\u001b[0mrender\u001b[0m\u001b[0;34m(\u001b[0m\u001b[0;34m**\u001b[0m\u001b[0mkwargs\u001b[0m\u001b[0;34m)\u001b[0m\u001b[0;34m\u001b[0m\u001b[0;34m\u001b[0m\u001b[0m\n\u001b[0m",
            "\u001b[0;32m/usr/local/lib/python3.9/dist-packages/folium/features.py\u001b[0m in \u001b[0;36mrender\u001b[0;34m(self, **kwargs)\u001b[0m\n\u001b[1;32m    780\u001b[0m             \u001b[0;32mif\u001b[0m \u001b[0mself\u001b[0m\u001b[0;34m.\u001b[0m\u001b[0mhighlight\u001b[0m\u001b[0;34m:\u001b[0m\u001b[0;34m\u001b[0m\u001b[0;34m\u001b[0m\u001b[0m\n\u001b[1;32m    781\u001b[0m                 \u001b[0mself\u001b[0m\u001b[0;34m.\u001b[0m\u001b[0mhighlight_map\u001b[0m \u001b[0;34m=\u001b[0m \u001b[0mmapper\u001b[0m\u001b[0;34m.\u001b[0m\u001b[0mget_highlight_map\u001b[0m\u001b[0;34m(\u001b[0m\u001b[0mself\u001b[0m\u001b[0;34m.\u001b[0m\u001b[0mhighlight_function\u001b[0m\u001b[0;34m)\u001b[0m\u001b[0;34m\u001b[0m\u001b[0;34m\u001b[0m\u001b[0m\n\u001b[0;32m--> 782\u001b[0;31m         \u001b[0msuper\u001b[0m\u001b[0;34m(\u001b[0m\u001b[0;34m)\u001b[0m\u001b[0;34m.\u001b[0m\u001b[0mrender\u001b[0m\u001b[0;34m(\u001b[0m\u001b[0;34m)\u001b[0m\u001b[0;34m\u001b[0m\u001b[0;34m\u001b[0m\u001b[0m\n\u001b[0m\u001b[1;32m    783\u001b[0m \u001b[0;34m\u001b[0m\u001b[0m\n\u001b[1;32m    784\u001b[0m \u001b[0;34m\u001b[0m\u001b[0m\n",
            "\u001b[0;32m/usr/local/lib/python3.9/dist-packages/branca/element.py\u001b[0m in \u001b[0;36mrender\u001b[0;34m(self, **kwargs)\u001b[0m\n\u001b[1;32m    643\u001b[0m \u001b[0;34m\u001b[0m\u001b[0m\n\u001b[1;32m    644\u001b[0m         \u001b[0;32mfor\u001b[0m \u001b[0mname\u001b[0m\u001b[0;34m,\u001b[0m \u001b[0melement\u001b[0m \u001b[0;32min\u001b[0m \u001b[0mself\u001b[0m\u001b[0;34m.\u001b[0m\u001b[0m_children\u001b[0m\u001b[0;34m.\u001b[0m\u001b[0mitems\u001b[0m\u001b[0;34m(\u001b[0m\u001b[0;34m)\u001b[0m\u001b[0;34m:\u001b[0m\u001b[0;34m\u001b[0m\u001b[0;34m\u001b[0m\u001b[0m\n\u001b[0;32m--> 645\u001b[0;31m             \u001b[0melement\u001b[0m\u001b[0;34m.\u001b[0m\u001b[0mrender\u001b[0m\u001b[0;34m(\u001b[0m\u001b[0;34m**\u001b[0m\u001b[0mkwargs\u001b[0m\u001b[0;34m)\u001b[0m\u001b[0;34m\u001b[0m\u001b[0;34m\u001b[0m\u001b[0m\n\u001b[0m",
            "\u001b[0;32m/usr/local/lib/python3.9/dist-packages/folium/features.py\u001b[0m in \u001b[0;36mrender\u001b[0;34m(self, **kwargs)\u001b[0m\n\u001b[1;32m   1129\u001b[0m         \u001b[0mkeys\u001b[0m \u001b[0;34m=\u001b[0m \u001b[0mtuple\u001b[0m\u001b[0;34m(\u001b[0m\u001b[0mx\u001b[0m \u001b[0;32mfor\u001b[0m \u001b[0mx\u001b[0m \u001b[0;32min\u001b[0m \u001b[0mkeys\u001b[0m \u001b[0;32mif\u001b[0m \u001b[0mx\u001b[0m \u001b[0;32mnot\u001b[0m \u001b[0;32min\u001b[0m \u001b[0;34m(\u001b[0m\u001b[0;34m\"style\"\u001b[0m\u001b[0;34m,\u001b[0m \u001b[0;34m\"highlight\"\u001b[0m\u001b[0;34m)\u001b[0m\u001b[0;34m)\u001b[0m\u001b[0;34m\u001b[0m\u001b[0;34m\u001b[0m\u001b[0m\n\u001b[1;32m   1130\u001b[0m         \u001b[0;32mfor\u001b[0m \u001b[0mvalue\u001b[0m \u001b[0;32min\u001b[0m \u001b[0mself\u001b[0m\u001b[0;34m.\u001b[0m\u001b[0mfields\u001b[0m\u001b[0;34m:\u001b[0m\u001b[0;34m\u001b[0m\u001b[0;34m\u001b[0m\u001b[0m\n\u001b[0;32m-> 1131\u001b[0;31m             assert (\n\u001b[0m\u001b[1;32m   1132\u001b[0m                 \u001b[0mvalue\u001b[0m \u001b[0;32min\u001b[0m \u001b[0mkeys\u001b[0m\u001b[0;34m\u001b[0m\u001b[0;34m\u001b[0m\u001b[0m\n\u001b[1;32m   1133\u001b[0m             \u001b[0;34m)\u001b[0m\u001b[0;34m,\u001b[0m \u001b[0;34m\"The field {} is not available in the data. Choose from: {}.\"\u001b[0m\u001b[0;34m.\u001b[0m\u001b[0mformat\u001b[0m\u001b[0;34m(\u001b[0m\u001b[0;34m\u001b[0m\u001b[0;34m\u001b[0m\u001b[0m\n",
            "\u001b[0;31mAssertionError\u001b[0m: The field ward is not available in the data. Choose from: ('ward_x', 'Malaria Incidence_x', 'wardcode', 'OBJECTID', 'Shape_Leng', 'Shape_Area', 'Confirme', 'Confirm1', 'Malaria_', 'Total_co', 'ward_y', 'Ward Population', 'Unnamed: 10', 'Malaria Incidence_y')."
          ]
        },
        {
          "output_type": "execute_result",
          "data": {
            "text/plain": [
              "<folium.folium.Map at 0x7fb3d8955d60>"
            ]
          },
          "metadata": {},
          "execution_count": 36
        }
      ]
    }
  ]
}