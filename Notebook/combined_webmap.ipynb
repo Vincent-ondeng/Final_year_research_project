{
  "nbformat": 4,
  "nbformat_minor": 0,
  "metadata": {
    "colab": {
      "provenance": [],
      "authorship_tag": "ABX9TyMWkuTBzshyFYkGoRpAIZj3",
      "include_colab_link": true
    },
    "kernelspec": {
      "name": "python3",
      "display_name": "Python 3"
    },
    "language_info": {
      "name": "python"
    }
  },
  "cells": [
    {
      "cell_type": "markdown",
      "metadata": {
        "id": "view-in-github",
        "colab_type": "text"
      },
      "source": [
        "<a href=\"https://colab.research.google.com/github/Vincent-ondeng/Final_year_research_project/blob/main/Notebook/combined_webmap.ipynb\" target=\"_parent\"><img src=\"https://colab.research.google.com/assets/colab-badge.svg\" alt=\"Open In Colab\"/></a>"
      ]
    },
    {
      "cell_type": "code",
      "execution_count": 58,
      "metadata": {
        "id": "4QRqAVR3Ln0Q",
        "colab": {
          "base_uri": "https://localhost:8080/"
        },
        "outputId": "dba4523a-06e0-4fd4-bce9-4cc7d2d222d6"
      },
      "outputs": [
        {
          "output_type": "stream",
          "name": "stdout",
          "text": [
            "Looking in indexes: https://pypi.org/simple, https://us-python.pkg.dev/colab-wheels/public/simple/\n",
            "Requirement already satisfied: folium in /usr/local/lib/python3.9/dist-packages (0.14.0)\n",
            "Requirement already satisfied: jinja2>=2.9 in /usr/local/lib/python3.9/dist-packages (from folium) (3.1.2)\n",
            "Requirement already satisfied: numpy in /usr/local/lib/python3.9/dist-packages (from folium) (1.22.4)\n",
            "Requirement already satisfied: branca>=0.6.0 in /usr/local/lib/python3.9/dist-packages (from folium) (0.6.0)\n",
            "Requirement already satisfied: requests in /usr/local/lib/python3.9/dist-packages (from folium) (2.27.1)\n",
            "Requirement already satisfied: MarkupSafe>=2.0 in /usr/local/lib/python3.9/dist-packages (from jinja2>=2.9->folium) (2.1.2)\n",
            "Requirement already satisfied: charset-normalizer~=2.0.0 in /usr/local/lib/python3.9/dist-packages (from requests->folium) (2.0.12)\n",
            "Requirement already satisfied: certifi>=2017.4.17 in /usr/local/lib/python3.9/dist-packages (from requests->folium) (2022.12.7)\n",
            "Requirement already satisfied: urllib3<1.27,>=1.21.1 in /usr/local/lib/python3.9/dist-packages (from requests->folium) (1.26.15)\n",
            "Requirement already satisfied: idna<4,>=2.5 in /usr/local/lib/python3.9/dist-packages (from requests->folium) (3.4)\n",
            "Looking in indexes: https://pypi.org/simple, https://us-python.pkg.dev/colab-wheels/public/simple/\n",
            "Requirement already satisfied: geopandas in /usr/local/lib/python3.9/dist-packages (0.12.2)\n",
            "Requirement already satisfied: fiona>=1.8 in /usr/local/lib/python3.9/dist-packages (from geopandas) (1.9.3)\n",
            "Requirement already satisfied: packaging in /usr/local/lib/python3.9/dist-packages (from geopandas) (23.1)\n",
            "Requirement already satisfied: shapely>=1.7 in /usr/local/lib/python3.9/dist-packages (from geopandas) (2.0.1)\n",
            "Requirement already satisfied: pandas>=1.0.0 in /usr/local/lib/python3.9/dist-packages (from geopandas) (1.5.3)\n",
            "Requirement already satisfied: pyproj>=2.6.1.post1 in /usr/local/lib/python3.9/dist-packages (from geopandas) (3.5.0)\n",
            "Requirement already satisfied: click~=8.0 in /usr/local/lib/python3.9/dist-packages (from fiona>=1.8->geopandas) (8.1.3)\n",
            "Requirement already satisfied: cligj>=0.5 in /usr/local/lib/python3.9/dist-packages (from fiona>=1.8->geopandas) (0.7.2)\n",
            "Requirement already satisfied: certifi in /usr/local/lib/python3.9/dist-packages (from fiona>=1.8->geopandas) (2022.12.7)\n",
            "Requirement already satisfied: click-plugins>=1.0 in /usr/local/lib/python3.9/dist-packages (from fiona>=1.8->geopandas) (1.1.1)\n",
            "Requirement already satisfied: attrs>=19.2.0 in /usr/local/lib/python3.9/dist-packages (from fiona>=1.8->geopandas) (23.1.0)\n",
            "Requirement already satisfied: importlib-metadata in /usr/local/lib/python3.9/dist-packages (from fiona>=1.8->geopandas) (6.4.1)\n",
            "Requirement already satisfied: munch>=2.3.2 in /usr/local/lib/python3.9/dist-packages (from fiona>=1.8->geopandas) (2.5.0)\n",
            "Requirement already satisfied: python-dateutil>=2.8.1 in /usr/local/lib/python3.9/dist-packages (from pandas>=1.0.0->geopandas) (2.8.2)\n",
            "Requirement already satisfied: pytz>=2020.1 in /usr/local/lib/python3.9/dist-packages (from pandas>=1.0.0->geopandas) (2022.7.1)\n",
            "Requirement already satisfied: numpy>=1.20.3 in /usr/local/lib/python3.9/dist-packages (from pandas>=1.0.0->geopandas) (1.22.4)\n",
            "Requirement already satisfied: six in /usr/local/lib/python3.9/dist-packages (from munch>=2.3.2->fiona>=1.8->geopandas) (1.16.0)\n",
            "Requirement already satisfied: zipp>=0.5 in /usr/local/lib/python3.9/dist-packages (from importlib-metadata->fiona>=1.8->geopandas) (3.15.0)\n",
            "Looking in indexes: https://pypi.org/simple, https://us-python.pkg.dev/colab-wheels/public/simple/\n",
            "Requirement already satisfied: pandas in /usr/local/lib/python3.9/dist-packages (1.5.3)\n",
            "Requirement already satisfied: numpy>=1.20.3 in /usr/local/lib/python3.9/dist-packages (from pandas) (1.22.4)\n",
            "Requirement already satisfied: pytz>=2020.1 in /usr/local/lib/python3.9/dist-packages (from pandas) (2022.7.1)\n",
            "Requirement already satisfied: python-dateutil>=2.8.1 in /usr/local/lib/python3.9/dist-packages (from pandas) (2.8.2)\n",
            "Requirement already satisfied: six>=1.5 in /usr/local/lib/python3.9/dist-packages (from python-dateutil>=2.8.1->pandas) (1.16.0)\n"
          ]
        }
      ],
      "source": [
        "# Install the neccessary libraries and dependencies\n",
        "!pip install folium\n",
        "!pip install geopandas\n",
        "!pip install pandas"
      ]
    },
    {
      "cell_type": "code",
      "source": [
        "#Import Libraries\n",
        "import geopandas as gpd\n",
        "import pandas as pd\n",
        "import numpy as np\n",
        "import folium\n",
        "from folium.features import GeoJsonTooltip\n",
        "from folium.plugins import MarkerCluster"
      ],
      "metadata": {
        "id": "l5sGwOJ5L5pk"
      },
      "execution_count": 59,
      "outputs": []
    },
    {
      "cell_type": "code",
      "source": [
        "# Read the GeoJSON file using Geopandas\n",
        "geojson = gpd.read_file(\"/content/wards1.geojson\")\n",
        "#geojson=geojson[['wardcode','geometry']] #only select 'wardcode' (Ward_Code) and 'geometry' columns\n",
        "\n",
        "geojson2 = gpd.read_file(\"/content/subcounty.geojson\")\n",
        "geojson2=geojson2[['FID_','geometry']] #only select 'FID' and 'geometry' columns\n"
      ],
      "metadata": {
        "id": "RXPEHzxUL_xi"
      },
      "execution_count": 61,
      "outputs": []
    },
    {
      "cell_type": "code",
      "source": [
        "df = pd.read_csv('/content/facilities_coordinates.csv')\n",
        "df.head()"
      ],
      "metadata": {
        "id": "m7d7gPypWNpd"
      },
      "execution_count": null,
      "outputs": []
    },
    {
      "cell_type": "code",
      "source": [
        "#Read the covid-19 data using pandas\n",
        "malaria_df=pd.read_csv(\"/content/wards.csv\")\n",
        "subcounty_df=pd.read_csv(\"/content/subcounty.csv\")"
      ],
      "metadata": {
        "id": "svTAP6zzMmpj"
      },
      "execution_count": 63,
      "outputs": []
    },
    {
      "cell_type": "code",
      "source": [
        "geojson.head()\n",
        "geojson2.head()\n",
        "malaria_df.head()\n",
        "subcounty_df.head()"
      ],
      "metadata": {
        "id": "swQ8oRpEOBOI"
      },
      "execution_count": null,
      "outputs": []
    },
    {
      "cell_type": "code",
      "source": [
        "#Join the geojson file with malaria_df\n",
        "df_final = geojson.merge(malaria_df, left_on=\"wardcode\", right_on=\"wardcode\", how=\"outer\")"
      ],
      "metadata": {
        "id": "2rN8CNVWOozD"
      },
      "execution_count": 65,
      "outputs": []
    },
    {
      "cell_type": "code",
      "source": [
        "#Join the geojson file with malaria_df\n",
        "df_final2 = geojson2.merge(subcounty_df, left_on=\"FID_\", right_on=\"FID_\", how=\"outer\")"
      ],
      "metadata": {
        "id": "-2jcJC3BOzsy"
      },
      "execution_count": 66,
      "outputs": []
    },
    {
      "cell_type": "code",
      "source": [
        "df_final.head()\n",
        "df_final2.head()"
      ],
      "metadata": {
        "id": "tWhj9PptQmnk"
      },
      "execution_count": null,
      "outputs": []
    },
    {
      "cell_type": "code",
      "source": [
        "# Create a map instance\n",
        "m = folium.Map(location=[-0.15386345206107715, 34.86414568574279],\n",
        "               zoom_start=10,\n",
        "               control_scale=True,\n",
        "               prefer_canvas=True)"
      ],
      "metadata": {
        "id": "47zJmMA0Q537"
      },
      "execution_count": 68,
      "outputs": []
    },
    {
      "cell_type": "code",
      "source": [
        "choropleth=folium.Choropleth(\n",
        "    geo_data=geojson,\n",
        "    name=\"County Assembly ward malaria distribution\",\n",
        "    data=malaria_df,\n",
        "    columns=['wardcode', 'Total_co'],\n",
        "    key_on='feature.properties.wardcode',\n",
        "    nan_fill_color=\"White\", #Use white color if there is no data available for the county\n",
        "    fill_color=\"YlOrRd\",\n",
        "    fill_opacity=0.7,\n",
        "    line_opacity=0.2,\n",
        "    legend_name=\"County Assembly Wards Legend\",\n",
        "    line_color='black',\n",
        "    highlight=True,\n",
        ").add_to(m)\n",
        "#Add Customized Tooltips to the map\n",
        "folium.features.GeoJson(\n",
        "                    data=df_final,\n",
        "                    #name='Total Confirmed cases of Malaria in Kisumu',\n",
        "                    smooth_factor=2,\n",
        "                    style_function=lambda x: {'color':'black','fillColor':'transparent','weight':0.5},\n",
        "                    tooltip=folium.features.GeoJsonTooltip(\n",
        "                        fields=['wardcode',\n",
        "                                'ward',\n",
        "                                'Confirme',\n",
        "                                'Confirm1',\n",
        "                                'Malaria_',\n",
        "                                'Total_co'\n",
        "                               ],\n",
        "                        aliases=[\"WardCode:\",\n",
        "                                 \"Ward Name:\",\n",
        "                                 \"Confirmed Cases in Children under agve 5:\",\n",
        "                                 \"Confirmed Cases in persons greater than age 5:\",\n",
        "                                 \"Confirmed Cases in expectant women:\",\n",
        "                                 \"Total Confirmed Malaria Cases:\"\n",
        "                                ], \n",
        "                        localize=True,\n",
        "                        sticky=False,\n",
        "                        labels=True,\n",
        "                        style=\"\"\"\n",
        "                            background-color: #F0EFEF;\n",
        "                            border: 2px solid black;\n",
        "                            border-radius: 3px;\n",
        "                            box-shadow: 3px;\n",
        "                        \"\"\",\n",
        "                        max_width=800,),\n",
        "                            highlight_function=lambda x: {'weight':3,'fillColor':'grey'},\n",
        "                        ).add_to(choropleth)\n",
        "m"
      ],
      "metadata": {
        "id": "uvDIACjgRCni"
      },
      "execution_count": null,
      "outputs": []
    },
    {
      "cell_type": "code",
      "source": [
        "choropleth1=folium.Choropleth(\n",
        "    geo_data=geojson2,\n",
        "    name=\"Malaria Distribution by Sub-county\",\n",
        "    data=subcounty_df,\n",
        "    columns=['FID_', 'Total Confirmed Cases in All age groups'],\n",
        "    key_on='feature.properties.FID_',\n",
        "    nan_fill_color=\"White\", #Use white color if there is no data available for the county\n",
        "    fill_color=\"YlOrRd\",\n",
        "    fill_opacity=0.7,\n",
        "    line_opacity=0.2,\n",
        "    legend_name=\"Sub-county Distribution Legend\",\n",
        "    line_color='black',\n",
        "    highlight=True,\n",
        ").add_to(m)\n",
        "#Add Customized Tooltips to the map\n",
        "folium.features.GeoJson(\n",
        "                    data=df_final2,\n",
        "                    name='Total Confirmed cases of Malaria in Kisumu',\n",
        "                    smooth_factor=2,\n",
        "                    style_function=lambda x: {'color':'black','fillColor':'transparent','weight':0.5},\n",
        "                    tooltip=folium.features.GeoJsonTooltip(\n",
        "                        fields=['Sub-county Name',\n",
        "                                'Confirmed Malaria (only Positive cases) <5 yrs',\n",
        "                                'Confirmed Malaria (only Positive cases) >5 yrs',\n",
        "                                'Malaria in pregnancy >5 yrs',\n",
        "                                'Total Confirmed Cases in All age groups',\n",
        "                                'Malaria Incidence per 1000'\n",
        "                               ],\n",
        "                        aliases=[\"Sub-county Name:\",\n",
        "                                 \"Confirmed Malaria (only Positive cases) <5 yrs:\",\n",
        "                                 \"Confirmed Malaria (only Positive cases) >5 yrs:\",\n",
        "                                 \"Malaria in pregnancy >5 yrs:\",\n",
        "                                 \"Total Confirmed Cases in All age groups:\",\n",
        "                                 \"Malaria Incidence per 1000:\"\n",
        "                                ], \n",
        "                        localize=True,\n",
        "                        sticky=False,\n",
        "                        labels=True,\n",
        "                        style=\"\"\"\n",
        "                            background-color: #F0EFEF;\n",
        "                            border: 2px solid black;\n",
        "                            border-radius: 3px;\n",
        "                            box-shadow: 3px;\n",
        "                        \"\"\",\n",
        "                        max_width=800,),\n",
        "                            highlight_function=lambda x: {'weight':3,'fillColor':'grey'},\n",
        "                        ).add_to(choropleth1)"
      ],
      "metadata": {
        "id": "71P5aU5MRW-6"
      },
      "execution_count": null,
      "outputs": []
    },
    {
      "cell_type": "code",
      "source": [
        "location = df['Latitude'].mean(), df['Longitude'].mean()"
      ],
      "metadata": {
        "id": "wd0pUM0oWT7C"
      },
      "execution_count": 71,
      "outputs": []
    },
    {
      "cell_type": "code",
      "source": [
        "markerCluster = MarkerCluster().add_to(m)"
      ],
      "metadata": {
        "id": "Rp4swQ__W0GK"
      },
      "execution_count": 72,
      "outputs": []
    },
    {
      "cell_type": "code",
      "source": [
        "def popup_html(row):\n",
        "  i = row\n",
        "  facility_name=df['Facility'].iloc[i]\n",
        "  malaria_in_children=df['Confirmed Malaria (only Positive cases) <5 yrs'].iloc[i]\n",
        "  greater_than_5=df['Confirmed Malaria (only Positive cases) >5 yrs'].iloc[i]\n",
        "  pregnant_women=df['Malaria in pregnancy >5 yrs'].iloc[i]\n",
        "  total_cases=df['Confirmed Malaria cases in all age groups'].iloc[i]\n",
        "\n",
        "  html = \"\"\"\n",
        "<!DOCTYPE html>\n",
        "<html>\n",
        "<tbody>\n",
        "<tr>\n",
        "<td style=\"text-align: left;\"><span><b>Facility Name:</b></span></td>\n",
        "<td style=\"text-align:right;\">\"\"\"+facility_name + \"\"\"</td>\n",
        "</tr><br>\n",
        "<tr>\n",
        "<td style=\"text-align: left;\"><span><b>Confirmed Malaria (only Positive cases) <5 yrs:</b></span></td>\n",
        "<td style=\"padding: 2px; padding-right:8px;\">{}</td>\"\"\".format(malaria_in_children) + \"\"\"\n",
        "</tr><br>\n",
        "<tr>\n",
        "<td style=\"text-align: left;\"><span><b>Confirmed Malaria (only Positive cases) >5 yrs:<b></span></td>\n",
        "<td style=\"padding: 2px; padding-right:8px;\">{}</td>\"\"\".format(greater_than_5) + \"\"\"\n",
        "</tr><br>\n",
        "<tr>\n",
        "<td style=\"text-align: left;\"><span><b>Malaria in pregnancy >5 yrs:</b></span></td>\n",
        "<td style=\"padding: 2px; padding-right:8px;\">{}</td>\"\"\".format(pregnant_women) + \"\"\"</td>\n",
        "</tr><br>\n",
        "<tr>\n",
        "<td style=\"text-align: left;\"><span><b>Confirmed Malaria cases in all age groups:</b></span></td>\n",
        "<td style=\"padding: 2px; padding-right:8px;\">{}</td>\"\"\".format(total_cases) + \"\"\"\n",
        "</tr>\n",
        "</tbody>\n",
        "</html>\n",
        "\"\"\"\n",
        "  return html"
      ],
      "metadata": {
        "id": "l1N9rDUAW4we"
      },
      "execution_count": 73,
      "outputs": []
    },
    {
      "cell_type": "code",
      "source": [
        "for i in range(0,len(df)):\n",
        "\n",
        "  html = popup_html(i)\n",
        "  popup = folium.Popup(folium.Html(html, script=True), max_width=500)\n",
        "  Health_facility=folium.CircleMarker([df['Latitude'].iloc[i], df['Longitude'].iloc[i]], popup=popup).add_to(markerCluster)"
      ],
      "metadata": {
        "id": "8JEvW9cyW_Ah"
      },
      "execution_count": 74,
      "outputs": []
    },
    {
      "cell_type": "code",
      "source": [
        "folium.TileLayer('OpenStreetMap',overlay=True,name=\"Street View\").add_to(m)\n",
        "folium.TileLayer('Stamen Terrain',overlay=True,name=\"Terrain\").add_to(m)"
      ],
      "metadata": {
        "id": "s1Yh-bLFhuzh"
      },
      "execution_count": null,
      "outputs": []
    },
    {
      "cell_type": "code",
      "source": [
        "folium.LayerControl(collapsed=True).add_to(m)\n",
        "m"
      ],
      "metadata": {
        "id": "EyKUvL9oaJh_"
      },
      "execution_count": null,
      "outputs": []
    },
    {
      "cell_type": "code",
      "source": [
        "# m.save(\"index.html\")"
      ],
      "metadata": {
        "id": "qx5CXk7UL1Pw"
      },
      "execution_count": null,
      "outputs": []
    }
  ]
}