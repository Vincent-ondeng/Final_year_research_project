{
  "nbformat": 4,
  "nbformat_minor": 0,
  "metadata": {
    "colab": {
      "provenance": [],
      "authorship_tag": "ABX9TyO74Ca7Z6/i5Aue2BvYFoEB",
      "include_colab_link": true
    },
    "kernelspec": {
      "name": "python3",
      "display_name": "Python 3"
    },
    "language_info": {
      "name": "python"
    }
  },
  "cells": [
    {
      "cell_type": "markdown",
      "metadata": {
        "id": "view-in-github",
        "colab_type": "text"
      },
      "source": [
        "<a href=\"https://colab.research.google.com/github/Vincent-ondeng/Final_year_research_project/blob/main/Notebook/combined_webmap.ipynb\" target=\"_parent\"><img src=\"https://colab.research.google.com/assets/colab-badge.svg\" alt=\"Open In Colab\"/></a>"
      ]
    },
    {
      "cell_type": "code",
      "execution_count": null,
      "metadata": {
        "id": "4QRqAVR3Ln0Q"
      },
      "outputs": [],
      "source": [
        "# Install the neccessary libraries and dependencies\n",
        "!pip install folium\n",
        "!pip install geopandas\n",
        "!pip install pandas\n",
        "!pip install numpy"
      ]
    },
    {
      "cell_type": "code",
      "source": [
        "#Import Libraries\n",
        "import geopandas as gpd\n",
        "import pandas as pd\n",
        "import numpy as np\n",
        "import folium\n",
        "from folium.features import GeoJsonTooltip\n",
        "from folium.plugins import MarkerCluster"
      ],
      "metadata": {
        "id": "l5sGwOJ5L5pk"
      },
      "execution_count": 42,
      "outputs": []
    },
    {
      "cell_type": "code",
      "source": [
        "# Read the GeoJSON file using Geopandas\n",
        "geojson = gpd.read_file(\"/content/wards.geojson\")\n",
        "geojson=geojson[['wardcode','geometry']] #only select 'wardcode' (Ward_Code) and 'geometry' columns\n",
        "\n",
        "geojson2 = gpd.read_file(\"/content/subcounty.geojson\")\n",
        "geojson2=geojson2[['FID_','geometry']] #only select 'FID' and 'geometry' columns\n",
        "\n",
        "df = pd.read_csv('/content/facilities_coordinates.csv')"
      ],
      "metadata": {
        "id": "RXPEHzxUL_xi"
      },
      "execution_count": 44,
      "outputs": []
    },
    {
      "cell_type": "code",
      "source": [
        "#Read the covid-19 data using pandas\n",
        "malaria_df=pd.read_csv(\"/content/wards.csv\")\n",
        "subcounty_df=pd.read_csv(\"/content/subcounty.csv\")"
      ],
      "metadata": {
        "id": "svTAP6zzMmpj"
      },
      "execution_count": 34,
      "outputs": []
    },
    {
      "cell_type": "code",
      "source": [
        "geojson.head()\n",
        "geojson2.head()\n",
        "malaria_df.head()\n",
        "subcounty_df.head()"
      ],
      "metadata": {
        "id": "swQ8oRpEOBOI"
      },
      "execution_count": null,
      "outputs": []
    },
    {
      "cell_type": "code",
      "source": [
        "#Join the geojson file with malaria_df\n",
        "df_final = geojson.merge(malaria_df, left_on=\"wardcode\", right_on=\"wardcode\", how=\"outer\")"
      ],
      "metadata": {
        "id": "2rN8CNVWOozD"
      },
      "execution_count": 36,
      "outputs": []
    },
    {
      "cell_type": "code",
      "source": [
        "#Join the geojson file with malaria_df\n",
        "df_final2 = geojson2.merge(subcounty_df, left_on=\"FID_\", right_on=\"FID_\", how=\"outer\")"
      ],
      "metadata": {
        "id": "-2jcJC3BOzsy"
      },
      "execution_count": 37,
      "outputs": []
    },
    {
      "cell_type": "code",
      "source": [
        "df_final.head()\n",
        "df_final2.head()"
      ],
      "metadata": {
        "id": "tWhj9PptQmnk"
      },
      "execution_count": null,
      "outputs": []
    },
    {
      "cell_type": "code",
      "source": [
        "# Create a map instance\n",
        "m = folium.Map(location=[-0.15386345206107715, 34.86414568574279],\n",
        "               zoom_start=10,\n",
        "               control_scale=True,\n",
        "               prefer_canvas=True)\n",
        "m"
      ],
      "metadata": {
        "id": "47zJmMA0Q537"
      },
      "execution_count": null,
      "outputs": []
    },
    {
      "cell_type": "code",
      "source": [
        "folium.Choropleth(\n",
        "    geo_data=geojson,\n",
        "    name=\"Malaria Distribution by ward\",\n",
        "    data=malaria_df,\n",
        "    columns=['wardcode', 'Total_co'],\n",
        "    key_on='feature.properties.wardcode',\n",
        "    nan_fill_color=\"White\", #Use white color if there is no data available for the county\n",
        "    fill_color=\"YlOrRd\",\n",
        "    fill_opacity=0.7,\n",
        "    line_opacity=0.2,\n",
        "    legend_name=\"Total Confirmed Malaria  Cases in Kisumu\",\n",
        "    line_color='black',\n",
        "    highlight=True,\n",
        ").add_to(m)\n",
        "m"
      ],
      "metadata": {
        "id": "uvDIACjgRCni"
      },
      "execution_count": null,
      "outputs": []
    },
    {
      "cell_type": "code",
      "source": [
        "#Add Customized Tooltips to the map\n",
        "folium.features.GeoJson(\n",
        "                    data=df_final,\n",
        "                    name='Total Confirmed cases of Malaria in Kisumu',\n",
        "                    smooth_factor=2,\n",
        "                    style_function=lambda x: {'color':'black','fillColor':'transparent','weight':0.5},\n",
        "                    tooltip=folium.features.GeoJsonTooltip(\n",
        "                        fields=['wardcode',\n",
        "                                'ward',\n",
        "                                'Confirme',\n",
        "                                'Confirm1',\n",
        "                                'Malaria_',\n",
        "                                'Total_co'\n",
        "                               ],\n",
        "                        aliases=[\"WardCode:\",\n",
        "                                 \"Ward Name:\",\n",
        "                                 \"Confirmed Cases in Children under agve 5:\",\n",
        "                                 \"Confirmed Cases in persons greater than age 5:\",\n",
        "                                 \"Confirmed Cases in expectant women:\",\n",
        "                                 \"Total Confirmed Malaria Cases:\"\n",
        "                                ], \n",
        "                        localize=True,\n",
        "                        sticky=False,\n",
        "                        labels=True,\n",
        "                        style=\"\"\"\n",
        "                            background-color: #F0EFEF;\n",
        "                            border: 2px solid black;\n",
        "                            border-radius: 3px;\n",
        "                            box-shadow: 3px;\n",
        "                        \"\"\",\n",
        "                        max_width=800,),\n",
        "                            highlight_function=lambda x: {'weight':3,'fillColor':'grey'},\n",
        "                        ).add_to(m)   \n",
        "\n",
        "m"
      ],
      "metadata": {
        "id": "Iw-JqmiZSQPk"
      },
      "execution_count": null,
      "outputs": []
    },
    {
      "cell_type": "code",
      "source": [
        "folium.Choropleth(\n",
        "    geo_data=geojson2,\n",
        "    name=\"Malaria Distribution by Sub-county\",\n",
        "    data=subcounty_df,\n",
        "    columns=['FID_', 'Total Confirmed Cases in All age groups'],\n",
        "    key_on='feature.properties.FID_',\n",
        "    nan_fill_color=\"White\", #Use white color if there is no data available for the county\n",
        "    fill_color=\"YlOrRd\",\n",
        "    fill_opacity=0.7,\n",
        "    line_opacity=0.2,\n",
        "    legend_name=\"Total Confirmed Malaria  Cases in Kisumu\",\n",
        "    line_color='black',\n",
        "    highlight=True,\n",
        ").add_to(m)\n",
        "m"
      ],
      "metadata": {
        "id": "71P5aU5MRW-6"
      },
      "execution_count": null,
      "outputs": []
    },
    {
      "cell_type": "code",
      "source": [
        "#Add Customized Tooltips to the map\n",
        "folium.features.GeoJson(\n",
        "                    data=df_final2,\n",
        "                    name='Total Confirmed cases of Malaria in Kisumu',\n",
        "                    smooth_factor=2,\n",
        "                    style_function=lambda x: {'color':'black','fillColor':'transparent','weight':0.5},\n",
        "                    tooltip=folium.features.GeoJsonTooltip(\n",
        "                        fields=['Sub-county Name',\n",
        "                                'Confirmed Malaria (only Positive cases) <5 yrs',\n",
        "                                'Confirmed Malaria (only Positive cases) >5 yrs',\n",
        "                                'Malaria in pregnancy >5 yrs',\n",
        "                                'Total Confirmed Cases in All age groups',\n",
        "                                'Malaria Incidence per 1000'\n",
        "                               ],\n",
        "                        aliases=[\"Sub-county Name:\",\n",
        "                                 \"Confirmed Malaria (only Positive cases) <5 yrs:\",\n",
        "                                 \"Confirmed Malaria (only Positive cases) >5 yrs:\",\n",
        "                                 \"Malaria in pregnancy >5 yrs:\",\n",
        "                                 \"Total Confirmed Cases in All age groups:\",\n",
        "                                 \"Malaria Incidence per 1000:\"\n",
        "                                ], \n",
        "                        localize=True,\n",
        "                        sticky=False,\n",
        "                        labels=True,\n",
        "                        style=\"\"\"\n",
        "                            background-color: #F0EFEF;\n",
        "                            border: 2px solid black;\n",
        "                            border-radius: 3px;\n",
        "                            box-shadow: 3px;\n",
        "                        \"\"\",\n",
        "                        max_width=800,),\n",
        "                            highlight_function=lambda x: {'weight':3,'fillColor':'grey'},\n",
        "                        ).add_to(m)   \n",
        "\n",
        "m"
      ],
      "metadata": {
        "id": "7U54AhoyThzu"
      },
      "execution_count": null,
      "outputs": []
    },
    {
      "cell_type": "code",
      "source": [
        "markerCluster = MarkerCluster().add_to(m)"
      ],
      "metadata": {
        "id": "m7d7gPypWNpd"
      },
      "execution_count": 45,
      "outputs": []
    },
    {
      "cell_type": "code",
      "source": [
        "for i,row in df.iterrows():\n",
        "  lat = df.at[i, 'Latitude']\n",
        "  lng = df.at[i, 'Longitude']\n",
        "  hos = df.at[i, 'Facility']\n",
        "  total = df.at[i, 'Confirmed Malaria cases in all age groups']\n",
        "\n",
        "  popup = df.at[i, 'Facility'] +'' +str(df.at[i, 'Confirmed Malaria cases in all age groups'])\n",
        "\n",
        "  folium.CircleMarker(location=[lat,lng], popup=popup, fill=True,).add_to(markerCluster)\n",
        "m"
      ],
      "metadata": {
        "id": "wd0pUM0oWT7C"
      },
      "execution_count": null,
      "outputs": []
    }
  ]
}