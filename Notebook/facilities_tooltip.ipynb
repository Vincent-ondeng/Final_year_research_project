{
  "nbformat": 4,
  "nbformat_minor": 0,
  "metadata": {
    "colab": {
      "provenance": [],
      "authorship_tag": "ABX9TyN9M/KPWKhmVj/qAsRZPG8L",
      "include_colab_link": true
    },
    "kernelspec": {
      "name": "python3",
      "display_name": "Python 3"
    },
    "language_info": {
      "name": "python"
    }
  },
  "cells": [
    {
      "cell_type": "markdown",
      "metadata": {
        "id": "view-in-github",
        "colab_type": "text"
      },
      "source": [
        "<a href=\"https://colab.research.google.com/github/Vincent-ondeng/Final_year_research_project/blob/main/Notebook/facilities_tooltip.ipynb\" target=\"_parent\"><img src=\"https://colab.research.google.com/assets/colab-badge.svg\" alt=\"Open In Colab\"/></a>"
      ]
    },
    {
      "cell_type": "code",
      "execution_count": null,
      "metadata": {
        "id": "7F9KfBR3d0H8"
      },
      "outputs": [],
      "source": [
        "!pip install folium\n",
        "!pip install pandas"
      ]
    },
    {
      "cell_type": "code",
      "source": [
        "import folium\n",
        "import pandas as pd\n",
        "from folium.plugins import MarkerCluster"
      ],
      "metadata": {
        "id": "puo9ABLbd6oU"
      },
      "execution_count": 39,
      "outputs": []
    },
    {
      "cell_type": "code",
      "source": [
        "m = folium.Map(location=[-0.15386345206107715, 34.86414568574279], zoom_start=10)\n",
        "m"
      ],
      "metadata": {
        "id": "-0mtinyDd9t8"
      },
      "execution_count": null,
      "outputs": []
    },
    {
      "cell_type": "code",
      "source": [
        "df = pd.read_csv('/content/facilities_coordinates.csv')\n",
        "df.head()\n"
      ],
      "metadata": {
        "id": "zVAeXhu5eBIj"
      },
      "execution_count": null,
      "outputs": []
    },
    {
      "cell_type": "code",
      "source": [
        "location = df['Latitude'].mean(), df['Longitude'].mean()"
      ],
      "metadata": {
        "id": "sJy3EPcPi90P"
      },
      "execution_count": 42,
      "outputs": []
    },
    {
      "cell_type": "code",
      "source": [
        "markerCluster = MarkerCluster().add_to(m)\n"
      ],
      "metadata": {
        "id": "iRsbNoWpK-wT"
      },
      "execution_count": 43,
      "outputs": []
    },
    {
      "cell_type": "code",
      "source": [
        "def popup_html(row):\n",
        "  i = row\n",
        "  facility_name=df['Facility'].iloc[i]\n",
        "  malaria_in_children=df['Confirmed Malaria (only Positive cases) <5 yrs'].iloc[i]\n",
        "  greater_than_5=df['Confirmed Malaria (only Positive cases) >5 yrs'].iloc[i]\n",
        "  pregnant_women=df['Malaria in pregnancy >5 yrs'].iloc[i]\n",
        "  total_cases=df['Confirmed Malaria cases in all age groups'].iloc[i]\n",
        "\n",
        "  html = \"\"\"\n",
        "<!DOCTYPE html>\n",
        "<html>\n",
        "<tbody>\n",
        "<tr>\n",
        "<td style=\"text-align: left;\"><span><b>Facility Name:</b></span></td>\n",
        "<td style=\"text-align:right;\">\"\"\"+facility_name + \"\"\"</td>\n",
        "</tr><br>\n",
        "<tr>\n",
        "<td style=\"text-align: left;\"><span><b>Confirmed Malaria (only Positive cases) <5 yrs:</b></span></td>\n",
        "<td style=\"padding: 2px; padding-right:8px;\">{}</td>\"\"\".format(malaria_in_children) + \"\"\"\n",
        "</tr><br>\n",
        "<tr>\n",
        "<td style=\"text-align: left;\"><span><b>Confirmed Malaria (only Positive cases) >5 yrs:<b></span></td>\n",
        "<td style=\"padding: 2px; padding-right:8px;\">{}</td>\"\"\".format(greater_than_5) + \"\"\"\n",
        "</tr><br>\n",
        "<tr>\n",
        "<td style=\"text-align: left;\"><span><b>Malaria in pregnancy >5 yrs:</b></span></td>\n",
        "<td style=\"padding: 2px; padding-right:8px;\">{}</td>\"\"\".format(pregnant_women) + \"\"\"</td>\n",
        "</tr><br>\n",
        "<tr>\n",
        "<td style=\"text-align: left;\"><span><b>Confirmed Malaria cases in all age groups:</b></span></td>\n",
        "<td style=\"padding: 2px; padding-right:8px;\">{}</td>\"\"\".format(total_cases) + \"\"\"\n",
        "</tr>\n",
        "</tbody>\n",
        "</html>\n",
        "\"\"\"\n",
        "  return html"
      ],
      "metadata": {
        "id": "apV0w2a2eVuD"
      },
      "execution_count": 44,
      "outputs": []
    },
    {
      "cell_type": "code",
      "source": [
        "for i in range(0,len(df)):\n",
        "\n",
        "  html = popup_html(i)\n",
        "  popup = folium.Popup(folium.Html(html, script=True), max_width=500)\n",
        "  folium.CircleMarker([df['Latitude'].iloc[i], df['Longitude'].iloc[i]], popup=popup).add_to(markerCluster)\n",
        "m"
      ],
      "metadata": {
        "id": "D8VvgOwAjctQ"
      },
      "execution_count": null,
      "outputs": []
    },
    {
      "cell_type": "code",
      "source": [
        "m.save(\"popup1.html\")"
      ],
      "metadata": {
        "id": "bVJMw3dZ6vsv"
      },
      "execution_count": 46,
      "outputs": []
    }
  ]
}